{
  "nbformat": 4,
  "nbformat_minor": 0,
  "metadata": {
    "colab": {
      "name": "Well_being_at_work.ipynb",
      "provenance": [],
      "collapsed_sections": [
        "5dk_l57meE2a",
        "SYxyS7egNhEN",
        "JSG6JhE9QA8M",
        "x9VpDsTyThxT",
        "tUPSKUmMVtFP",
        "eumaq0UeZv-K",
        "AkEHwRvqGb-c",
        "DtI-IqQKrnfY",
        "-K4B694ky_WS",
        "GHr7AJ-Ht_y_",
        "dnZOFvoPxRmr",
        "kP1_NvAAy5rY",
        "NalELYjHzJC9",
        "NffU0q2JzpD4",
        "QW2eTqGN0L65",
        "cRloTzBKP-dO",
        "SnxNW4z7dcIb",
        "xy70wKMtI-P9",
        "m8cW2HJDJskN",
        "n0DGU7ZbTfiC",
        "_6QllMAvUTPR",
        "5SHvzua7Zgmd",
        "wHnEKJvcIlyE",
        "az5e1GHTXory",
        "RXp06ue8C5v9",
        "ToDffyOoKrC7",
        "GLTWq0X9XN3s",
        "Du4oCb4obuEm",
        "R2iS6DDaey8F",
        "HweC0xWuYM8t"
      ]
    },
    "kernelspec": {
      "name": "python3",
      "display_name": "Python 3"
    }
  },
  "cells": [
    {
      "cell_type": "markdown",
      "metadata": {
        "id": "5dk_l57meE2a",
        "colab_type": "text"
      },
      "source": [
        "#Basic imports and function ceil"
      ]
    },
    {
      "cell_type": "code",
      "metadata": {
        "id": "lOGRM2e0rQPq",
        "colab_type": "code",
        "colab": {}
      },
      "source": [
        "import pandas as pd\n",
        "import matplotlib.pyplot as plt\n",
        "from statsmodels.tsa.stattools import adfuller #to see if timeseries is stationary\n",
        "import numpy as np\n",
        "import statsmodels.formula.api as smf\n",
        "import statsmodels.api as sm\n",
        "import datetime"
      ],
      "execution_count": 0,
      "outputs": []
    },
    {
      "cell_type": "code",
      "metadata": {
        "id": "2BHl5A3fvSN_",
        "colab_type": "code",
        "colab": {}
      },
      "source": [
        "# Fonction pour majorer ou minorer un nombre à l'entier le plus proche\n",
        "\n",
        "def my_ceil(predictions):\n",
        "  for i in range(len(predictions)):\n",
        "    if predictions[i]%1<=0.5:\n",
        "      predictions[i] = int(predictions[i])\n",
        "    else:\n",
        "      predictions[i] = int(predictions[i]) + 1\n",
        "  return predictions"
      ],
      "execution_count": 0,
      "outputs": []
    },
    {
      "cell_type": "code",
      "metadata": {
        "id": "VIYgkeC4rWYd",
        "colab_type": "code",
        "outputId": "8bb4c953-5fd0-4990-d615-1c1b50743c9b",
        "colab": {
          "resources": {
            "http://localhost:8080/nbextensions/google.colab/files.js": {
              "data": "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",
              "ok": true,
              "headers": [
                [
                  "content-type",
                  "application/javascript"
                ]
              ],
              "status": 200,
              "status_text": ""
            }
          },
          "base_uri": "https://localhost:8080/",
          "height": 142
        }
      },
      "source": [
        "import io\n",
        "from google.colab import files\n",
        "uploaded = files.upload()"
      ],
      "execution_count": 0,
      "outputs": [
        {
          "output_type": "display_data",
          "data": {
            "text/html": [
              "\n",
              "     <input type=\"file\" id=\"files-233125c5-bfe0-44f6-80e8-b3240f4ff29a\" name=\"files[]\" multiple disabled />\n",
              "     <output id=\"result-233125c5-bfe0-44f6-80e8-b3240f4ff29a\">\n",
              "      Upload widget is only available when the cell has been executed in the\n",
              "      current browser session. Please rerun this cell to enable.\n",
              "      </output>\n",
              "      <script src=\"/nbextensions/google.colab/files.js\"></script> "
            ],
            "text/plain": [
              "<IPython.core.display.HTML object>"
            ]
          },
          "metadata": {
            "tags": []
          }
        },
        {
          "output_type": "stream",
          "text": [
            "Saving test_input.csv to test_input.csv\n",
            "Saving train_input.csv to train_input.csv\n",
            "Saving train_output.csv to train_output.csv\n"
          ],
          "name": "stdout"
        }
      ]
    },
    {
      "cell_type": "markdown",
      "metadata": {
        "id": "SYxyS7egNhEN",
        "colab_type": "text"
      },
      "source": [
        "#Dataset Exploration "
      ]
    },
    {
      "cell_type": "code",
      "metadata": {
        "id": "H4rDkNsNNmPy",
        "colab_type": "code",
        "colab": {}
      },
      "source": [
        "import pandas as pd\n",
        "import matplotlib.pyplot as plt\n",
        "import seaborn as sns\n",
        "import numpy as np\n",
        "import datetime"
      ],
      "execution_count": 0,
      "outputs": []
    },
    {
      "cell_type": "code",
      "metadata": {
        "id": "TF-wVvMfNl94",
        "colab_type": "code",
        "colab": {}
      },
      "source": [
        "%%capture\n",
        "train_input= pd.read_csv('https://raw.githubusercontent.com/nisrineha/Challenge_data_well_being_at_work/master/datasets/train_input.csv')\n",
        "train_output= pd.read_csv('https://raw.githubusercontent.com/nisrineha/Challenge_data_well_being_at_work/master/datasets/train_output.csv')\n",
        "train= train_input\n",
        "train['Score']= train_output.Score\n",
        "train.head()\n",
        "for i in range(len(train['Date'])):\n",
        "  train['Date'][i] = datetime.datetime.strptime(train['Date'][i], '%Y-%m-%d %H:%M:%S')"
      ],
      "execution_count": 0,
      "outputs": []
    },
    {
      "cell_type": "code",
      "metadata": {
        "id": "K2CsUoHvkpM-",
        "colab_type": "code",
        "outputId": "7aaf81c7-0083-4c0b-9410-bca75f5dead6",
        "colab": {
          "base_uri": "https://localhost:8080/",
          "height": 136
        }
      },
      "source": [
        "print(train.shape)\n",
        "print(train.head())\n"
      ],
      "execution_count": 0,
      "outputs": [
        {
          "output_type": "stream",
          "text": [
            "(8000, 8)\n",
            "   ID                 Date  Temperature  Humidity  Humex    CO2  Bright  Score\n",
            "0   0  2017-08-31 23:30:00         22.7      56.0   25.7  534.0     1.0    4.0\n",
            "1   1  2017-09-01 00:30:00         22.8      55.0   25.7  506.0     1.0    4.0\n",
            "2   2  2017-09-01 01:30:00         22.9      55.0   25.9  577.0     1.0    4.0\n",
            "3   3  2017-09-01 02:30:00         23.0      55.0   26.1  630.0     1.0    2.0\n",
            "4   4  2017-09-01 03:30:00         23.0      55.0   26.1  643.0     1.0    3.0\n"
          ],
          "name": "stdout"
        }
      ]
    },
    {
      "cell_type": "markdown",
      "metadata": {
        "id": "ux1gT6twlrj7",
        "colab_type": "text"
      },
      "source": [
        "Verifying if any na value in our dataframe, the result of this query shows us that there is none. "
      ]
    },
    {
      "cell_type": "code",
      "metadata": {
        "id": "y8b5FbkVlSXr",
        "colab_type": "code",
        "outputId": "94194cd4-f2a0-4773-fb3c-7458f9c097e9",
        "colab": {
          "base_uri": "https://localhost:8080/",
          "height": 34
        }
      },
      "source": [
        "train.isnull().values.any()"
      ],
      "execution_count": 0,
      "outputs": [
        {
          "output_type": "execute_result",
          "data": {
            "text/plain": [
              "False"
            ]
          },
          "metadata": {
            "tags": []
          },
          "execution_count": 5
        }
      ]
    },
    {
      "cell_type": "markdown",
      "metadata": {
        "id": "JSG6JhE9QA8M",
        "colab_type": "text"
      },
      "source": [
        "##Distribution of different features: \n"
      ]
    },
    {
      "cell_type": "code",
      "metadata": {
        "id": "NqKokxeGQABl",
        "colab_type": "code",
        "outputId": "77b29377-e2b0-457f-869c-22cf39fc7b72",
        "colab": {
          "base_uri": "https://localhost:8080/",
          "height": 751
        }
      },
      "source": [
        "plt.figure(\"Distribution Plots\")\n",
        "fig = plt.figure(figsize = (24,12))\n",
        "plt.subplot(2, 3,  1)\n",
        "sns.distplot(np.log(train.Temperature), label = 'Temperature')\n",
        "plt.subplot(2, 3, 2)\n",
        "sns.distplot(np.log(train.Humidity), label = 'Humidity')\n",
        "plt.subplot(2, 3, 3)\n",
        "sns.distplot(train.Humex, label = 'Humex')\n",
        "plt.subplot(2, 3, 4)\n",
        "sns.distplot(np.log(train.CO2), label = 'CO2')\n",
        "# sns.distplot(well_BE.month, label = 'month')\n",
        "plt.legend()\n",
        "plt.show()"
      ],
      "execution_count": 0,
      "outputs": [
        {
          "output_type": "display_data",
          "data": {
            "text/plain": [
              "<Figure size 432x288 with 0 Axes>"
            ]
          },
          "metadata": {
            "tags": []
          }
        },
        {
          "output_type": "display_data",
          "data": {
            "image/png": "[encoded data removed]",
            "text/plain": [
              "<Figure size 1728x864 with 4 Axes>"
            ]
          },
          "metadata": {
            "tags": []
          }
        }
      ]
    },
    {
      "cell_type": "markdown",
      "metadata": {
        "id": "shSKys6NTOQr",
        "colab_type": "text"
      },
      "source": [
        "We have the only varibale who has a normal distribution is the Humex variable which represents the air qualtiy "
      ]
    },
    {
      "cell_type": "markdown",
      "metadata": {
        "id": "x9VpDsTyThxT",
        "colab_type": "text"
      },
      "source": [
        "##Matrice de correlation  "
      ]
    },
    {
      "cell_type": "code",
      "metadata": {
        "id": "z_E2jAL6P_wP",
        "colab_type": "code",
        "outputId": "cdcd0c34-61f2-4c34-9846-5ae8b0562ad4",
        "colab": {
          "base_uri": "https://localhost:8080/",
          "height": 308
        }
      },
      "source": [
        "corr = train.corr()\n",
        "ax = sns.heatmap(\n",
        "    corr, \n",
        "    vmin=-1, vmax=1, center=0,\n",
        "    cmap=sns.diverging_palette(20, 220, n=200),\n",
        "    square=True\n",
        ")\n",
        "ax.set_xticklabels(\n",
        "    ax.get_xticklabels(),\n",
        "    rotation=45,\n",
        "    horizontalalignment='right'\n",
        ");"
      ],
      "execution_count": 0,
      "outputs": [
        {
          "output_type": "display_data",
          "data": {
            "image/png": "[encoded data removed]",
            "text/plain": [
              "<Figure size 432x288 with 2 Axes>"
            ]
          },
          "metadata": {
            "tags": []
          }
        }
      ]
    },
    {
      "cell_type": "code",
      "metadata": {
        "id": "qLSy8xWjP_rk",
        "colab_type": "code",
        "outputId": "e633bcd9-e0fc-4174-9aa2-1dfeb03d3ac1",
        "colab": {
          "base_uri": "https://localhost:8080/",
          "height": 264
        }
      },
      "source": [
        "corr"
      ],
      "execution_count": 0,
      "outputs": [
        {
          "output_type": "execute_result",
          "data": {
            "text/html": [
              "<div>\n",
              "<style scoped>\n",
              "    .dataframe tbody tr th:only-of-type {\n",
              "        vertical-align: middle;\n",
              "    }\n",
              "\n",
              "    .dataframe tbody tr th {\n",
              "        vertical-align: top;\n",
              "    }\n",
              "\n",
              "    .dataframe thead th {\n",
              "        text-align: right;\n",
              "    }\n",
              "</style>\n",
              "<table border=\"1\" class=\"dataframe\">\n",
              "  <thead>\n",
              "    <tr style=\"text-align: right;\">\n",
              "      <th></th>\n",
              "      <th>ID</th>\n",
              "      <th>Temperature</th>\n",
              "      <th>Humidity</th>\n",
              "      <th>Humex</th>\n",
              "      <th>CO2</th>\n",
              "      <th>Bright</th>\n",
              "      <th>Socre</th>\n",
              "    </tr>\n",
              "  </thead>\n",
              "  <tbody>\n",
              "    <tr>\n",
              "      <th>ID</th>\n",
              "      <td>1.000000</td>\n",
              "      <td>-0.306515</td>\n",
              "      <td>-0.630485</td>\n",
              "      <td>-0.571340</td>\n",
              "      <td>0.006029</td>\n",
              "      <td>-0.131696</td>\n",
              "      <td>-0.416685</td>\n",
              "    </tr>\n",
              "    <tr>\n",
              "      <th>Temperature</th>\n",
              "      <td>-0.306515</td>\n",
              "      <td>1.000000</td>\n",
              "      <td>0.071968</td>\n",
              "      <td>0.861334</td>\n",
              "      <td>0.426742</td>\n",
              "      <td>0.275884</td>\n",
              "      <td>0.028900</td>\n",
              "    </tr>\n",
              "    <tr>\n",
              "      <th>Humidity</th>\n",
              "      <td>-0.630485</td>\n",
              "      <td>0.071968</td>\n",
              "      <td>1.000000</td>\n",
              "      <td>0.566265</td>\n",
              "      <td>0.015807</td>\n",
              "      <td>0.075624</td>\n",
              "      <td>0.541904</td>\n",
              "    </tr>\n",
              "    <tr>\n",
              "      <th>Humex</th>\n",
              "      <td>-0.571340</td>\n",
              "      <td>0.861334</td>\n",
              "      <td>0.566265</td>\n",
              "      <td>1.000000</td>\n",
              "      <td>0.361522</td>\n",
              "      <td>0.268284</td>\n",
              "      <td>0.287406</td>\n",
              "    </tr>\n",
              "    <tr>\n",
              "      <th>CO2</th>\n",
              "      <td>0.006029</td>\n",
              "      <td>0.426742</td>\n",
              "      <td>0.015807</td>\n",
              "      <td>0.361522</td>\n",
              "      <td>1.000000</td>\n",
              "      <td>0.486382</td>\n",
              "      <td>-0.172919</td>\n",
              "    </tr>\n",
              "    <tr>\n",
              "      <th>Bright</th>\n",
              "      <td>-0.131696</td>\n",
              "      <td>0.275884</td>\n",
              "      <td>0.075624</td>\n",
              "      <td>0.268284</td>\n",
              "      <td>0.486382</td>\n",
              "      <td>1.000000</td>\n",
              "      <td>-0.024523</td>\n",
              "    </tr>\n",
              "    <tr>\n",
              "      <th>Socre</th>\n",
              "      <td>-0.416685</td>\n",
              "      <td>0.028900</td>\n",
              "      <td>0.541904</td>\n",
              "      <td>0.287406</td>\n",
              "      <td>-0.172919</td>\n",
              "      <td>-0.024523</td>\n",
              "      <td>1.000000</td>\n",
              "    </tr>\n",
              "  </tbody>\n",
              "</table>\n",
              "</div>"
            ],
            "text/plain": [
              "                   ID  Temperature  Humidity  ...       CO2    Bright     Socre\n",
              "ID           1.000000    -0.306515 -0.630485  ...  0.006029 -0.131696 -0.416685\n",
              "Temperature -0.306515     1.000000  0.071968  ...  0.426742  0.275884  0.028900\n",
              "Humidity    -0.630485     0.071968  1.000000  ...  0.015807  0.075624  0.541904\n",
              "Humex       -0.571340     0.861334  0.566265  ...  0.361522  0.268284  0.287406\n",
              "CO2          0.006029     0.426742  0.015807  ...  1.000000  0.486382 -0.172919\n",
              "Bright      -0.131696     0.275884  0.075624  ...  0.486382  1.000000 -0.024523\n",
              "Socre       -0.416685     0.028900  0.541904  ... -0.172919 -0.024523  1.000000\n",
              "\n",
              "[7 rows x 7 columns]"
            ]
          },
          "metadata": {
            "tags": []
          },
          "execution_count": 31
        }
      ]
    },
    {
      "cell_type": "markdown",
      "metadata": {
        "id": "BooWTO7nTswM",
        "colab_type": "text"
      },
      "source": [
        "Again, there is only one variable **Humidty** which is hihgly correlated with our traget variable **score** "
      ]
    },
    {
      "cell_type": "markdown",
      "metadata": {
        "id": "tUPSKUmMVtFP",
        "colab_type": "text"
      },
      "source": [
        "##Relation between our target variable and the variable Date"
      ]
    },
    {
      "cell_type": "code",
      "metadata": {
        "id": "mdPvwoUdVGzI",
        "colab_type": "code",
        "outputId": "ba6f1dba-0d8d-42c3-9843-67d196db0d1b",
        "colab": {
          "base_uri": "https://localhost:8080/",
          "height": 388
        }
      },
      "source": [
        "series = pd.Series(np.array(train.Score), index=train.Date)\n",
        "groupHour = series.groupby(series.index.hour).mean()\n",
        "groupHour = pd.DataFrame({'hour':groupHour.index, 'score':groupHour.values})\n",
        "\n",
        "# plt.plot(groupHour.hour, groupHour.score)\n",
        "fig, ax = plt.subplots(1,1, figsize = (12,6))\n",
        "#sns.barplot(x = 'hour', y = 'score', data = groupHour)\n",
        "\n",
        "sns.lineplot(x = 'hour', y = 'score', data = groupHour)\n",
        "sns.set_style(\"ticks\", {\"xtick.major.size\": 16, \"ytick.major.size\": 8})"
      ],
      "execution_count": 0,
      "outputs": [
        {
          "output_type": "display_data",
          "data": {
            "image/png": "[encoded data removed]",
            "text/plain": [
              "<Figure size 864x432 with 1 Axes>"
            ]
          },
          "metadata": {
            "tags": []
          }
        }
      ]
    },
    {
      "cell_type": "markdown",
      "metadata": {
        "id": "AP1KzkahVrGe",
        "colab_type": "text"
      },
      "source": [
        "From the graph before which reprensents the score in function of day hours, the confort subjectif drop at 9:00 Am and raise again at 19:00, maybe people are working at this hours and they are less confortable. "
      ]
    },
    {
      "cell_type": "code",
      "metadata": {
        "id": "0XIVSF3QVGxG",
        "colab_type": "code",
        "outputId": "b8d06b75-396b-4993-a728-500955cc70bc",
        "colab": {
          "base_uri": "https://localhost:8080/",
          "height": 405
        }
      },
      "source": [
        "series = pd.Series(np.array(train.Score), index=train.Date)\n",
        "groupHour = series.groupby(series.index.month).mean()\n",
        "groupHour = pd.DataFrame({'month':groupHour.index, 'score':groupHour.values})\n",
        "\n",
        "fig, ax = plt.subplots(1,1, figsize = (12,6))\n",
        "#sns.barplot(x = 'month', y = 'score', data = groupHour)\n",
        "sns.lineplot(x = 'month', y = 'score', data = groupHour)"
      ],
      "execution_count": 0,
      "outputs": [
        {
          "output_type": "execute_result",
          "data": {
            "text/plain": [
              "<matplotlib.axes._subplots.AxesSubplot at 0x7f9581d19ba8>"
            ]
          },
          "metadata": {
            "tags": []
          },
          "execution_count": 46
        },
        {
          "output_type": "display_data",
          "data": {
            "image/png": "[encoded data removed]",
            "text/plain": [
              "<Figure size 864x432 with 1 Axes>"
            ]
          },
          "metadata": {
            "tags": []
          }
        }
      ]
    },
    {
      "cell_type": "markdown",
      "metadata": {
        "id": "gyvYDXH4ZQuG",
        "colab_type": "text"
      },
      "source": [
        "We did a variation of the score in function of months, but it is insignificant, since we have only few months in our dataset "
      ]
    },
    {
      "cell_type": "markdown",
      "metadata": {
        "id": "eumaq0UeZv-K",
        "colab_type": "text"
      },
      "source": [
        "## Tableau software\n",
        "\n",
        "In order to have a better idea about our dataset we used the software Tableau"
      ]
    },
    {
      "cell_type": "code",
      "metadata": {
        "id": "XAVYEMqGVGvF",
        "colab_type": "code",
        "outputId": "0817fe8e-2b88-4680-f68a-9661e07565a7",
        "colab": {
          "base_uri": "https://localhost:8080/",
          "height": 498
        }
      },
      "source": [
        "from IPython.core.display import Image, display\n",
        "display(Image('/content/score(autresvariables).PNG'))"
      ],
      "execution_count": 0,
      "outputs": [
        {
          "output_type": "display_data",
          "data": {
            "image/png": "[encoded data removed]",
            "text/plain": [
              "<IPython.core.display.Image object>"
            ]
          },
          "metadata": {
            "tags": []
          }
        }
      ]
    },
    {
      "cell_type": "markdown",
      "metadata": {
        "id": "ScNlIwJOjF1i",
        "colab_type": "text"
      },
      "source": [
        "The graph shows us that there is no apprent relation between our traget and features "
      ]
    },
    {
      "cell_type": "code",
      "metadata": {
        "id": "G4geyuWXVGqw",
        "colab_type": "code",
        "outputId": "7d27e51c-f0f8-4476-ae98-0d30a1089260",
        "colab": {
          "base_uri": "https://localhost:8080/",
          "height": 521
        }
      },
      "source": [
        "display(Image('/content/variable(hours).PNG'))\n"
      ],
      "execution_count": 0,
      "outputs": [
        {
          "output_type": "display_data",
          "data": {
            "image/png": "[encoded data removed]",
            "text/plain": [
              "<IPython.core.display.Image object>"
            ]
          },
          "metadata": {
            "tags": []
          }
        }
      ]
    },
    {
      "cell_type": "markdown",
      "metadata": {
        "id": "ZGIohSRAjgbC",
        "colab_type": "text"
      },
      "source": [
        "The graph shows us that except the bright and CO2, the other features are constant during the day. "
      ]
    },
    {
      "cell_type": "code",
      "metadata": {
        "id": "xesaEnT7VGn0",
        "colab_type": "code",
        "outputId": "add488db-3cad-43f9-dadb-e60591eccf86",
        "colab": {
          "base_uri": "https://localhost:8080/",
          "height": 496
        }
      },
      "source": [
        "display(Image('/content/score(day).PNG'))\n"
      ],
      "execution_count": 0,
      "outputs": [
        {
          "output_type": "display_data",
          "data": {
            "image/png": "[encoded data removed]",
            "text/plain": [
              "<IPython.core.display.Image object>"
            ]
          },
          "metadata": {
            "tags": []
          }
        }
      ]
    },
    {
      "cell_type": "markdown",
      "metadata": {
        "id": "DD9kQzXOkCi0",
        "colab_type": "text"
      },
      "source": [
        "this graph shows us that there is no apparent seasonality concerning the score and the time. "
      ]
    },
    {
      "cell_type": "code",
      "metadata": {
        "id": "8G9xWePQVGlL",
        "colab_type": "code",
        "outputId": "3d67b2d8-25cc-44d2-bdbc-1694a49d9a5b",
        "colab": {
          "base_uri": "https://localhost:8080/",
          "height": 486
        }
      },
      "source": [
        "display(Image('/content/score(month).PNG'))"
      ],
      "execution_count": 0,
      "outputs": [
        {
          "output_type": "display_data",
          "data": {
            "image/png": "[encoded data removed]",
            "text/plain": [
              "<IPython.core.display.Image object>"
            ]
          },
          "metadata": {
            "tags": []
          }
        }
      ]
    },
    {
      "cell_type": "markdown",
      "metadata": {
        "id": "j9DldtX6kSk6",
        "colab_type": "text"
      },
      "source": [
        "This graph shows us that the score is dropping from August to Decemeber and maybe of the season from summer to winter. \n",
        "\n",
        "##Conclusion \n",
        "\n",
        "After exploring of our data, in the next section we will preprocess the data for modelisation. "
      ]
    },
    {
      "cell_type": "markdown",
      "metadata": {
        "id": "AkEHwRvqGb-c",
        "colab_type": "text"
      },
      "source": [
        "#Preprocessing phase"
      ]
    },
    {
      "cell_type": "markdown",
      "metadata": {
        "id": "DtI-IqQKrnfY",
        "colab_type": "text"
      },
      "source": [
        "##Train data"
      ]
    },
    {
      "cell_type": "markdown",
      "metadata": {
        "id": "-K4B694ky_WS",
        "colab_type": "text"
      },
      "source": [
        "###Import train data"
      ]
    },
    {
      "cell_type": "code",
      "metadata": {
        "id": "QquZJFnxrpwj",
        "colab_type": "code",
        "outputId": "8adb1594-cb88-4c6b-f7e1-691a9c0d96a2",
        "colab": {
          "base_uri": "https://localhost:8080/",
          "height": 102
        }
      },
      "source": [
        "wellB_in = pd.read_csv(io.BytesIO(uploaded['train_input.csv']))\n",
        "wellB_out = pd.read_csv(io.BytesIO(uploaded['train_output.csv']))\n",
        "well_B = wellB_in\n",
        "\n",
        "# Convert Date column from String to Date\n",
        "for i in range(len(well_B['Date'])):\n",
        "  well_B['Date'][i] = datetime.datetime.strptime(well_B['Date'][i], '%Y-%m-%d %H:%M:%S')\n",
        "\n",
        "train_ID = well_B.ID\n",
        "train_Date = well_B.Date\n",
        "\n",
        "well_B = well_B.drop(['ID','Date'], axis = 1)"
      ],
      "execution_count": 0,
      "outputs": [
        {
          "output_type": "stream",
          "text": [
            "/usr/local/lib/python3.6/dist-packages/ipykernel_launcher.py:7: SettingWithCopyWarning: \n",
            "A value is trying to be set on a copy of a slice from a DataFrame\n",
            "\n",
            "See the caveats in the documentation: http://pandas.pydata.org/pandas-docs/stable/user_guide/indexing.html#returning-a-view-versus-a-copy\n",
            "  import sys\n"
          ],
          "name": "stderr"
        }
      ]
    },
    {
      "cell_type": "markdown",
      "metadata": {
        "id": "GHr7AJ-Ht_y_",
        "colab_type": "text"
      },
      "source": [
        "###Add weekdays to columns as dummies"
      ]
    },
    {
      "cell_type": "code",
      "metadata": {
        "id": "Xybn5EZkvf4i",
        "colab_type": "code",
        "outputId": "2965a2a3-4b7f-4484-b167-699775ea2524",
        "colab": {
          "base_uri": "https://localhost:8080/",
          "height": 102
        }
      },
      "source": [
        "well_B['weekday'] = train_Date\n",
        "\n",
        "# Add weekday column to data\n",
        "for i in range(len(well_B.weekday)):\n",
        "  well_B.weekday[i] = well_B.weekday[i].weekday()"
      ],
      "execution_count": 0,
      "outputs": [
        {
          "output_type": "stream",
          "text": [
            "/usr/local/lib/python3.6/dist-packages/ipykernel_launcher.py:5: SettingWithCopyWarning: \n",
            "A value is trying to be set on a copy of a slice from a DataFrame\n",
            "\n",
            "See the caveats in the documentation: http://pandas.pydata.org/pandas-docs/stable/user_guide/indexing.html#returning-a-view-versus-a-copy\n",
            "  \"\"\"\n"
          ],
          "name": "stderr"
        }
      ]
    },
    {
      "cell_type": "code",
      "metadata": {
        "id": "QuYmxbuHtxy8",
        "colab_type": "code",
        "colab": {}
      },
      "source": [
        "dummy_weekday = pd.get_dummies(well_B['weekday'])\n",
        "dummy_weekday.columns = ['lundi','mardi','mercredi','jeudi','vendredi','samedi','dimanche']\n",
        "\n",
        "# dummy_weekday.rename(columns = {'0':'lundi','1':'mardi','2':'mercredi','3':'jeudi','4':'vendredi','5':'samedi','6':'dimanche'})\n",
        "# dummy_weekday.head()\n",
        "\n",
        "well_B = pd.concat([well_B,dummy_weekday], axis=1)"
      ],
      "execution_count": 0,
      "outputs": []
    },
    {
      "cell_type": "code",
      "metadata": {
        "id": "GqmRdG76w3A7",
        "colab_type": "code",
        "colab": {}
      },
      "source": [
        "# Drop Weekday column with categorical values\n",
        "well_B = well_B.drop('weekday', axis = 1)"
      ],
      "execution_count": 0,
      "outputs": []
    },
    {
      "cell_type": "markdown",
      "metadata": {
        "id": "dnZOFvoPxRmr",
        "colab_type": "text"
      },
      "source": [
        "###Add hours to columns as dummy variables"
      ]
    },
    {
      "cell_type": "code",
      "metadata": {
        "id": "DA5TYvcZxWCt",
        "colab_type": "code",
        "outputId": "a06681fc-94f8-418c-ec4d-e990e5c26dc8",
        "colab": {
          "base_uri": "https://localhost:8080/",
          "height": 309
        }
      },
      "source": [
        "well_B['hour'] = train_Date\n",
        "\n",
        "for i in range(len(well_B.hour)):\n",
        "  well_B.hour[i] = well_B.hour[i].hour\n",
        "\n",
        "dummy_hour = pd.get_dummies(well_B['hour'])\n",
        "dummy_hour.columns = ['midnight','AM1','AM2','AM3','AM4','AM5','AM6','AM7','AM8','AM9','AM10','AM11','midday','PM1','PM2','PM3','PM4','PM5','PM6','PM7','PM8','PM9','PM10','PM11']\n",
        "\n",
        "well_B = pd.concat([well_B,dummy_hour], axis = 1)\n",
        "\n",
        "well_B = well_B.drop('hour', axis = 1)\n",
        "\n",
        "\n",
        "well_B.head()"
      ],
      "execution_count": 0,
      "outputs": [
        {
          "output_type": "stream",
          "text": [
            "/usr/local/lib/python3.6/dist-packages/ipykernel_launcher.py:4: SettingWithCopyWarning: \n",
            "A value is trying to be set on a copy of a slice from a DataFrame\n",
            "\n",
            "See the caveats in the documentation: http://pandas.pydata.org/pandas-docs/stable/user_guide/indexing.html#returning-a-view-versus-a-copy\n",
            "  after removing the cwd from sys.path.\n"
          ],
          "name": "stderr"
        },
        {
          "output_type": "execute_result",
          "data": {
            "text/html": [
              "<div>\n",
              "<style scoped>\n",
              "    .dataframe tbody tr th:only-of-type {\n",
              "        vertical-align: middle;\n",
              "    }\n",
              "\n",
              "    .dataframe tbody tr th {\n",
              "        vertical-align: top;\n",
              "    }\n",
              "\n",
              "    .dataframe thead th {\n",
              "        text-align: right;\n",
              "    }\n",
              "</style>\n",
              "<table border=\"1\" class=\"dataframe\">\n",
              "  <thead>\n",
              "    <tr style=\"text-align: right;\">\n",
              "      <th></th>\n",
              "      <th>Temperature</th>\n",
              "      <th>Humidity</th>\n",
              "      <th>Humex</th>\n",
              "      <th>CO2</th>\n",
              "      <th>Bright</th>\n",
              "      <th>lundi</th>\n",
              "      <th>mardi</th>\n",
              "      <th>mercredi</th>\n",
              "      <th>jeudi</th>\n",
              "      <th>vendredi</th>\n",
              "      <th>samedi</th>\n",
              "      <th>dimanche</th>\n",
              "      <th>midnight</th>\n",
              "      <th>AM1</th>\n",
              "      <th>AM2</th>\n",
              "      <th>AM3</th>\n",
              "      <th>AM4</th>\n",
              "      <th>AM5</th>\n",
              "      <th>AM6</th>\n",
              "      <th>AM7</th>\n",
              "      <th>AM8</th>\n",
              "      <th>AM9</th>\n",
              "      <th>AM10</th>\n",
              "      <th>AM11</th>\n",
              "      <th>midday</th>\n",
              "      <th>PM1</th>\n",
              "      <th>PM2</th>\n",
              "      <th>PM3</th>\n",
              "      <th>PM4</th>\n",
              "      <th>PM5</th>\n",
              "      <th>PM6</th>\n",
              "      <th>PM7</th>\n",
              "      <th>PM8</th>\n",
              "      <th>PM9</th>\n",
              "      <th>PM10</th>\n",
              "      <th>PM11</th>\n",
              "    </tr>\n",
              "  </thead>\n",
              "  <tbody>\n",
              "    <tr>\n",
              "      <th>0</th>\n",
              "      <td>22.7</td>\n",
              "      <td>56.0</td>\n",
              "      <td>25.7</td>\n",
              "      <td>534.0</td>\n",
              "      <td>1.0</td>\n",
              "      <td>0</td>\n",
              "      <td>0</td>\n",
              "      <td>0</td>\n",
              "      <td>1</td>\n",
              "      <td>0</td>\n",
              "      <td>0</td>\n",
              "      <td>0</td>\n",
              "      <td>0</td>\n",
              "      <td>0</td>\n",
              "      <td>0</td>\n",
              "      <td>0</td>\n",
              "      <td>0</td>\n",
              "      <td>0</td>\n",
              "      <td>0</td>\n",
              "      <td>0</td>\n",
              "      <td>0</td>\n",
              "      <td>0</td>\n",
              "      <td>0</td>\n",
              "      <td>0</td>\n",
              "      <td>0</td>\n",
              "      <td>0</td>\n",
              "      <td>0</td>\n",
              "      <td>0</td>\n",
              "      <td>0</td>\n",
              "      <td>0</td>\n",
              "      <td>0</td>\n",
              "      <td>0</td>\n",
              "      <td>0</td>\n",
              "      <td>0</td>\n",
              "      <td>0</td>\n",
              "      <td>1</td>\n",
              "    </tr>\n",
              "    <tr>\n",
              "      <th>1</th>\n",
              "      <td>22.8</td>\n",
              "      <td>55.0</td>\n",
              "      <td>25.7</td>\n",
              "      <td>506.0</td>\n",
              "      <td>1.0</td>\n",
              "      <td>0</td>\n",
              "      <td>0</td>\n",
              "      <td>0</td>\n",
              "      <td>0</td>\n",
              "      <td>1</td>\n",
              "      <td>0</td>\n",
              "      <td>0</td>\n",
              "      <td>1</td>\n",
              "      <td>0</td>\n",
              "      <td>0</td>\n",
              "      <td>0</td>\n",
              "      <td>0</td>\n",
              "      <td>0</td>\n",
              "      <td>0</td>\n",
              "      <td>0</td>\n",
              "      <td>0</td>\n",
              "      <td>0</td>\n",
              "      <td>0</td>\n",
              "      <td>0</td>\n",
              "      <td>0</td>\n",
              "      <td>0</td>\n",
              "      <td>0</td>\n",
              "      <td>0</td>\n",
              "      <td>0</td>\n",
              "      <td>0</td>\n",
              "      <td>0</td>\n",
              "      <td>0</td>\n",
              "      <td>0</td>\n",
              "      <td>0</td>\n",
              "      <td>0</td>\n",
              "      <td>0</td>\n",
              "    </tr>\n",
              "    <tr>\n",
              "      <th>2</th>\n",
              "      <td>22.9</td>\n",
              "      <td>55.0</td>\n",
              "      <td>25.9</td>\n",
              "      <td>577.0</td>\n",
              "      <td>1.0</td>\n",
              "      <td>0</td>\n",
              "      <td>0</td>\n",
              "      <td>0</td>\n",
              "      <td>0</td>\n",
              "      <td>1</td>\n",
              "      <td>0</td>\n",
              "      <td>0</td>\n",
              "      <td>0</td>\n",
              "      <td>1</td>\n",
              "      <td>0</td>\n",
              "      <td>0</td>\n",
              "      <td>0</td>\n",
              "      <td>0</td>\n",
              "      <td>0</td>\n",
              "      <td>0</td>\n",
              "      <td>0</td>\n",
              "      <td>0</td>\n",
              "      <td>0</td>\n",
              "      <td>0</td>\n",
              "      <td>0</td>\n",
              "      <td>0</td>\n",
              "      <td>0</td>\n",
              "      <td>0</td>\n",
              "      <td>0</td>\n",
              "      <td>0</td>\n",
              "      <td>0</td>\n",
              "      <td>0</td>\n",
              "      <td>0</td>\n",
              "      <td>0</td>\n",
              "      <td>0</td>\n",
              "      <td>0</td>\n",
              "    </tr>\n",
              "    <tr>\n",
              "      <th>3</th>\n",
              "      <td>23.0</td>\n",
              "      <td>55.0</td>\n",
              "      <td>26.1</td>\n",
              "      <td>630.0</td>\n",
              "      <td>1.0</td>\n",
              "      <td>0</td>\n",
              "      <td>0</td>\n",
              "      <td>0</td>\n",
              "      <td>0</td>\n",
              "      <td>1</td>\n",
              "      <td>0</td>\n",
              "      <td>0</td>\n",
              "      <td>0</td>\n",
              "      <td>0</td>\n",
              "      <td>1</td>\n",
              "      <td>0</td>\n",
              "      <td>0</td>\n",
              "      <td>0</td>\n",
              "      <td>0</td>\n",
              "      <td>0</td>\n",
              "      <td>0</td>\n",
              "      <td>0</td>\n",
              "      <td>0</td>\n",
              "      <td>0</td>\n",
              "      <td>0</td>\n",
              "      <td>0</td>\n",
              "      <td>0</td>\n",
              "      <td>0</td>\n",
              "      <td>0</td>\n",
              "      <td>0</td>\n",
              "      <td>0</td>\n",
              "      <td>0</td>\n",
              "      <td>0</td>\n",
              "      <td>0</td>\n",
              "      <td>0</td>\n",
              "      <td>0</td>\n",
              "    </tr>\n",
              "    <tr>\n",
              "      <th>4</th>\n",
              "      <td>23.0</td>\n",
              "      <td>55.0</td>\n",
              "      <td>26.1</td>\n",
              "      <td>643.0</td>\n",
              "      <td>1.0</td>\n",
              "      <td>0</td>\n",
              "      <td>0</td>\n",
              "      <td>0</td>\n",
              "      <td>0</td>\n",
              "      <td>1</td>\n",
              "      <td>0</td>\n",
              "      <td>0</td>\n",
              "      <td>0</td>\n",
              "      <td>0</td>\n",
              "      <td>0</td>\n",
              "      <td>1</td>\n",
              "      <td>0</td>\n",
              "      <td>0</td>\n",
              "      <td>0</td>\n",
              "      <td>0</td>\n",
              "      <td>0</td>\n",
              "      <td>0</td>\n",
              "      <td>0</td>\n",
              "      <td>0</td>\n",
              "      <td>0</td>\n",
              "      <td>0</td>\n",
              "      <td>0</td>\n",
              "      <td>0</td>\n",
              "      <td>0</td>\n",
              "      <td>0</td>\n",
              "      <td>0</td>\n",
              "      <td>0</td>\n",
              "      <td>0</td>\n",
              "      <td>0</td>\n",
              "      <td>0</td>\n",
              "      <td>0</td>\n",
              "    </tr>\n",
              "  </tbody>\n",
              "</table>\n",
              "</div>"
            ],
            "text/plain": [
              "   Temperature  Humidity  Humex    CO2  Bright  ...  PM7  PM8  PM9  PM10  PM11\n",
              "0         22.7      56.0   25.7  534.0     1.0  ...    0    0    0     0     1\n",
              "1         22.8      55.0   25.7  506.0     1.0  ...    0    0    0     0     0\n",
              "2         22.9      55.0   25.9  577.0     1.0  ...    0    0    0     0     0\n",
              "3         23.0      55.0   26.1  630.0     1.0  ...    0    0    0     0     0\n",
              "4         23.0      55.0   26.1  643.0     1.0  ...    0    0    0     0     0\n",
              "\n",
              "[5 rows x 36 columns]"
            ]
          },
          "metadata": {
            "tags": []
          },
          "execution_count": 202
        }
      ]
    },
    {
      "cell_type": "code",
      "metadata": {
        "id": "C7ia-U7oyUK2",
        "colab_type": "code",
        "colab": {}
      },
      "source": [
        "# Add objective variable to data\n",
        "well_B['Score'] = wellB_out.Score"
      ],
      "execution_count": 0,
      "outputs": []
    },
    {
      "cell_type": "markdown",
      "metadata": {
        "id": "kP1_NvAAy5rY",
        "colab_type": "text"
      },
      "source": [
        "##Test Data"
      ]
    },
    {
      "cell_type": "markdown",
      "metadata": {
        "id": "NalELYjHzJC9",
        "colab_type": "text"
      },
      "source": [
        "###Import test data"
      ]
    },
    {
      "cell_type": "code",
      "metadata": {
        "id": "lU-SvP3Vyshl",
        "colab_type": "code",
        "outputId": "23ae91b9-b860-4ce5-b777-b6fe66ff7f27",
        "colab": {
          "base_uri": "https://localhost:8080/",
          "height": 102
        }
      },
      "source": [
        "well_Btest = pd.read_csv(io.BytesIO(uploaded['test_input.csv']))\n",
        "\n",
        "# Convert Date column from String to Date\n",
        "for i in range(len(well_Btest['Date'])):\n",
        "  well_Btest['Date'][i] = datetime.datetime.strptime(well_Btest['Date'][i], '%Y-%m-%d %H:%M:%S')\n",
        "\n",
        "test_ID = well_Btest.ID\n",
        "test_Date = well_Btest.Date\n",
        "\n",
        "well_Btest = well_Btest.drop(['ID','Date'], axis = 1)\n",
        "# well_Btest_ = well_Btest"
      ],
      "execution_count": 0,
      "outputs": [
        {
          "output_type": "stream",
          "text": [
            "/usr/local/lib/python3.6/dist-packages/ipykernel_launcher.py:5: SettingWithCopyWarning: \n",
            "A value is trying to be set on a copy of a slice from a DataFrame\n",
            "\n",
            "See the caveats in the documentation: http://pandas.pydata.org/pandas-docs/stable/user_guide/indexing.html#returning-a-view-versus-a-copy\n",
            "  \"\"\"\n"
          ],
          "name": "stderr"
        }
      ]
    },
    {
      "cell_type": "markdown",
      "metadata": {
        "id": "NffU0q2JzpD4",
        "colab_type": "text"
      },
      "source": [
        "###Add weekdays to columns as dummies"
      ]
    },
    {
      "cell_type": "code",
      "metadata": {
        "id": "NfKnWeLXzOzn",
        "colab_type": "code",
        "outputId": "1b3aace8-93aa-4ee5-876a-2f4a93109604",
        "colab": {
          "base_uri": "https://localhost:8080/",
          "height": 102
        }
      },
      "source": [
        "well_Btest['weekday'] = test_Date\n",
        "\n",
        "# Add weekday column to data\n",
        "for i in range(len(well_Btest.weekday)):\n",
        "  well_Btest.weekday[i] = well_Btest.weekday[i].weekday()"
      ],
      "execution_count": 0,
      "outputs": [
        {
          "output_type": "stream",
          "text": [
            "/usr/local/lib/python3.6/dist-packages/ipykernel_launcher.py:5: SettingWithCopyWarning: \n",
            "A value is trying to be set on a copy of a slice from a DataFrame\n",
            "\n",
            "See the caveats in the documentation: http://pandas.pydata.org/pandas-docs/stable/user_guide/indexing.html#returning-a-view-versus-a-copy\n",
            "  \"\"\"\n"
          ],
          "name": "stderr"
        }
      ]
    },
    {
      "cell_type": "code",
      "metadata": {
        "id": "oNNEGkOWzhh7",
        "colab_type": "code",
        "colab": {}
      },
      "source": [
        "dummy_weekday = pd.get_dummies(well_Btest['weekday'])\n",
        "dummy_weekday.columns = ['lundi','mardi','mercredi','jeudi','vendredi','samedi','dimanche']\n",
        "\n",
        "# dummy_weekday.rename(columns = {'0':'lundi','1':'mardi','2':'mercredi','3':'jeudi','4':'vendredi','5':'samedi','6':'dimanche'})\n",
        "# dummy_weekday.head()\n",
        "\n",
        "well_Btest = pd.concat([well_Btest,dummy_weekday], axis=1)"
      ],
      "execution_count": 0,
      "outputs": []
    },
    {
      "cell_type": "code",
      "metadata": {
        "id": "OzMgs0Jx0Ge4",
        "colab_type": "code",
        "colab": {}
      },
      "source": [
        "# Drop Weekday column with categorical values\n",
        "well_Btest = well_Btest.drop('weekday', axis = 1)"
      ],
      "execution_count": 0,
      "outputs": []
    },
    {
      "cell_type": "markdown",
      "metadata": {
        "id": "QW2eTqGN0L65",
        "colab_type": "text"
      },
      "source": [
        "###Add hours to columns as dummy variables"
      ]
    },
    {
      "cell_type": "code",
      "metadata": {
        "id": "L40k3pc30Mjb",
        "colab_type": "code",
        "outputId": "2b8c707d-53e6-4556-f691-3f148c3f10ef",
        "colab": {
          "base_uri": "https://localhost:8080/",
          "height": 309
        }
      },
      "source": [
        "well_Btest['hour'] = test_Date\n",
        "\n",
        "for i in range(len(well_Btest.hour)):\n",
        "  well_Btest.hour[i] = well_Btest.hour[i].hour\n",
        "\n",
        "dummy_hour = pd.get_dummies(well_Btest['hour'])\n",
        "dummy_hour.columns = ['midnight','AM1','AM2','AM3','AM4','AM5','AM6','AM7','AM8','AM9','AM10','AM11','midday','PM1','PM2','PM3','PM4','PM5','PM6','PM7','PM8','PM9','PM10','PM11']\n",
        "\n",
        "well_Btest = pd.concat([well_Btest,dummy_hour], axis = 1)\n",
        "\n",
        "well_Btest = well_Btest.drop('hour', axis = 1)\n",
        "\n",
        "well_Btest.head()"
      ],
      "execution_count": 0,
      "outputs": [
        {
          "output_type": "stream",
          "text": [
            "/usr/local/lib/python3.6/dist-packages/ipykernel_launcher.py:4: SettingWithCopyWarning: \n",
            "A value is trying to be set on a copy of a slice from a DataFrame\n",
            "\n",
            "See the caveats in the documentation: http://pandas.pydata.org/pandas-docs/stable/user_guide/indexing.html#returning-a-view-versus-a-copy\n",
            "  after removing the cwd from sys.path.\n"
          ],
          "name": "stderr"
        },
        {
          "output_type": "execute_result",
          "data": {
            "text/html": [
              "<div>\n",
              "<style scoped>\n",
              "    .dataframe tbody tr th:only-of-type {\n",
              "        vertical-align: middle;\n",
              "    }\n",
              "\n",
              "    .dataframe tbody tr th {\n",
              "        vertical-align: top;\n",
              "    }\n",
              "\n",
              "    .dataframe thead th {\n",
              "        text-align: right;\n",
              "    }\n",
              "</style>\n",
              "<table border=\"1\" class=\"dataframe\">\n",
              "  <thead>\n",
              "    <tr style=\"text-align: right;\">\n",
              "      <th></th>\n",
              "      <th>Temperature</th>\n",
              "      <th>Humidity</th>\n",
              "      <th>Humex</th>\n",
              "      <th>CO2</th>\n",
              "      <th>Bright</th>\n",
              "      <th>lundi</th>\n",
              "      <th>mardi</th>\n",
              "      <th>mercredi</th>\n",
              "      <th>jeudi</th>\n",
              "      <th>vendredi</th>\n",
              "      <th>samedi</th>\n",
              "      <th>dimanche</th>\n",
              "      <th>midnight</th>\n",
              "      <th>AM1</th>\n",
              "      <th>AM2</th>\n",
              "      <th>AM3</th>\n",
              "      <th>AM4</th>\n",
              "      <th>AM5</th>\n",
              "      <th>AM6</th>\n",
              "      <th>AM7</th>\n",
              "      <th>AM8</th>\n",
              "      <th>AM9</th>\n",
              "      <th>AM10</th>\n",
              "      <th>AM11</th>\n",
              "      <th>midday</th>\n",
              "      <th>PM1</th>\n",
              "      <th>PM2</th>\n",
              "      <th>PM3</th>\n",
              "      <th>PM4</th>\n",
              "      <th>PM5</th>\n",
              "      <th>PM6</th>\n",
              "      <th>PM7</th>\n",
              "      <th>PM8</th>\n",
              "      <th>PM9</th>\n",
              "      <th>PM10</th>\n",
              "      <th>PM11</th>\n",
              "    </tr>\n",
              "  </thead>\n",
              "  <tbody>\n",
              "    <tr>\n",
              "      <th>0</th>\n",
              "      <td>20.1</td>\n",
              "      <td>26.0</td>\n",
              "      <td>17.9</td>\n",
              "      <td>377.0</td>\n",
              "      <td>1.0</td>\n",
              "      <td>0</td>\n",
              "      <td>0</td>\n",
              "      <td>0</td>\n",
              "      <td>0</td>\n",
              "      <td>0</td>\n",
              "      <td>0</td>\n",
              "      <td>1</td>\n",
              "      <td>0</td>\n",
              "      <td>0</td>\n",
              "      <td>0</td>\n",
              "      <td>0</td>\n",
              "      <td>0</td>\n",
              "      <td>0</td>\n",
              "      <td>0</td>\n",
              "      <td>0</td>\n",
              "      <td>0</td>\n",
              "      <td>0</td>\n",
              "      <td>0</td>\n",
              "      <td>0</td>\n",
              "      <td>0</td>\n",
              "      <td>0</td>\n",
              "      <td>0</td>\n",
              "      <td>0</td>\n",
              "      <td>0</td>\n",
              "      <td>0</td>\n",
              "      <td>0</td>\n",
              "      <td>0</td>\n",
              "      <td>1</td>\n",
              "      <td>0</td>\n",
              "      <td>0</td>\n",
              "      <td>0</td>\n",
              "    </tr>\n",
              "    <tr>\n",
              "      <th>1</th>\n",
              "      <td>20.2</td>\n",
              "      <td>26.0</td>\n",
              "      <td>18.0</td>\n",
              "      <td>374.0</td>\n",
              "      <td>1.0</td>\n",
              "      <td>0</td>\n",
              "      <td>0</td>\n",
              "      <td>0</td>\n",
              "      <td>0</td>\n",
              "      <td>0</td>\n",
              "      <td>0</td>\n",
              "      <td>1</td>\n",
              "      <td>0</td>\n",
              "      <td>0</td>\n",
              "      <td>0</td>\n",
              "      <td>0</td>\n",
              "      <td>0</td>\n",
              "      <td>0</td>\n",
              "      <td>0</td>\n",
              "      <td>0</td>\n",
              "      <td>0</td>\n",
              "      <td>0</td>\n",
              "      <td>0</td>\n",
              "      <td>0</td>\n",
              "      <td>0</td>\n",
              "      <td>0</td>\n",
              "      <td>0</td>\n",
              "      <td>0</td>\n",
              "      <td>0</td>\n",
              "      <td>0</td>\n",
              "      <td>0</td>\n",
              "      <td>0</td>\n",
              "      <td>1</td>\n",
              "      <td>0</td>\n",
              "      <td>0</td>\n",
              "      <td>0</td>\n",
              "    </tr>\n",
              "    <tr>\n",
              "      <th>2</th>\n",
              "      <td>20.1</td>\n",
              "      <td>26.0</td>\n",
              "      <td>17.9</td>\n",
              "      <td>379.0</td>\n",
              "      <td>1.0</td>\n",
              "      <td>0</td>\n",
              "      <td>0</td>\n",
              "      <td>0</td>\n",
              "      <td>0</td>\n",
              "      <td>0</td>\n",
              "      <td>0</td>\n",
              "      <td>1</td>\n",
              "      <td>0</td>\n",
              "      <td>0</td>\n",
              "      <td>0</td>\n",
              "      <td>0</td>\n",
              "      <td>0</td>\n",
              "      <td>0</td>\n",
              "      <td>0</td>\n",
              "      <td>0</td>\n",
              "      <td>0</td>\n",
              "      <td>0</td>\n",
              "      <td>0</td>\n",
              "      <td>0</td>\n",
              "      <td>0</td>\n",
              "      <td>0</td>\n",
              "      <td>0</td>\n",
              "      <td>0</td>\n",
              "      <td>0</td>\n",
              "      <td>0</td>\n",
              "      <td>0</td>\n",
              "      <td>0</td>\n",
              "      <td>0</td>\n",
              "      <td>1</td>\n",
              "      <td>0</td>\n",
              "      <td>0</td>\n",
              "    </tr>\n",
              "    <tr>\n",
              "      <th>3</th>\n",
              "      <td>20.1</td>\n",
              "      <td>26.0</td>\n",
              "      <td>17.9</td>\n",
              "      <td>380.0</td>\n",
              "      <td>1.0</td>\n",
              "      <td>0</td>\n",
              "      <td>0</td>\n",
              "      <td>0</td>\n",
              "      <td>0</td>\n",
              "      <td>0</td>\n",
              "      <td>0</td>\n",
              "      <td>1</td>\n",
              "      <td>0</td>\n",
              "      <td>0</td>\n",
              "      <td>0</td>\n",
              "      <td>0</td>\n",
              "      <td>0</td>\n",
              "      <td>0</td>\n",
              "      <td>0</td>\n",
              "      <td>0</td>\n",
              "      <td>0</td>\n",
              "      <td>0</td>\n",
              "      <td>0</td>\n",
              "      <td>0</td>\n",
              "      <td>0</td>\n",
              "      <td>0</td>\n",
              "      <td>0</td>\n",
              "      <td>0</td>\n",
              "      <td>0</td>\n",
              "      <td>0</td>\n",
              "      <td>0</td>\n",
              "      <td>0</td>\n",
              "      <td>0</td>\n",
              "      <td>1</td>\n",
              "      <td>0</td>\n",
              "      <td>0</td>\n",
              "    </tr>\n",
              "    <tr>\n",
              "      <th>4</th>\n",
              "      <td>20.0</td>\n",
              "      <td>26.0</td>\n",
              "      <td>17.8</td>\n",
              "      <td>379.0</td>\n",
              "      <td>1.0</td>\n",
              "      <td>0</td>\n",
              "      <td>0</td>\n",
              "      <td>0</td>\n",
              "      <td>0</td>\n",
              "      <td>0</td>\n",
              "      <td>0</td>\n",
              "      <td>1</td>\n",
              "      <td>0</td>\n",
              "      <td>0</td>\n",
              "      <td>0</td>\n",
              "      <td>0</td>\n",
              "      <td>0</td>\n",
              "      <td>0</td>\n",
              "      <td>0</td>\n",
              "      <td>0</td>\n",
              "      <td>0</td>\n",
              "      <td>0</td>\n",
              "      <td>0</td>\n",
              "      <td>0</td>\n",
              "      <td>0</td>\n",
              "      <td>0</td>\n",
              "      <td>0</td>\n",
              "      <td>0</td>\n",
              "      <td>0</td>\n",
              "      <td>0</td>\n",
              "      <td>0</td>\n",
              "      <td>0</td>\n",
              "      <td>0</td>\n",
              "      <td>0</td>\n",
              "      <td>1</td>\n",
              "      <td>0</td>\n",
              "    </tr>\n",
              "  </tbody>\n",
              "</table>\n",
              "</div>"
            ],
            "text/plain": [
              "   Temperature  Humidity  Humex    CO2  Bright  ...  PM7  PM8  PM9  PM10  PM11\n",
              "0         20.1      26.0   17.9  377.0     1.0  ...    0    1    0     0     0\n",
              "1         20.2      26.0   18.0  374.0     1.0  ...    0    1    0     0     0\n",
              "2         20.1      26.0   17.9  379.0     1.0  ...    0    0    1     0     0\n",
              "3         20.1      26.0   17.9  380.0     1.0  ...    0    0    1     0     0\n",
              "4         20.0      26.0   17.8  379.0     1.0  ...    0    0    0     1     0\n",
              "\n",
              "[5 rows x 36 columns]"
            ]
          },
          "metadata": {
            "tags": []
          },
          "execution_count": 208
        }
      ]
    },
    {
      "cell_type": "markdown",
      "metadata": {
        "id": "cRloTzBKP-dO",
        "colab_type": "text"
      },
      "source": [
        "#K-fold Cross validation: regression and classification"
      ]
    },
    {
      "cell_type": "markdown",
      "metadata": {
        "id": "SnxNW4z7dcIb",
        "colab_type": "text"
      },
      "source": [
        "##Imports and functions"
      ]
    },
    {
      "cell_type": "code",
      "metadata": {
        "id": "9O9grhueQCC1",
        "colab_type": "code",
        "colab": {}
      },
      "source": [
        "from sklearn.model_selection import KFold # import KFold\n",
        "from sklearn.metrics import accuracy_score #To calculate accuracy\n",
        "from sklearn.ensemble import RandomForestClassifier\n",
        "from sklearn.neighbors import KNeighborsClassifier\n",
        "from sklearn.preprocessing import StandardScaler"
      ],
      "execution_count": 0,
      "outputs": []
    },
    {
      "cell_type": "code",
      "metadata": {
        "colab_type": "code",
        "id": "bUw2cgceTIlC",
        "colab": {}
      },
      "source": [
        "kf = KFold(n_splits = 7)"
      ],
      "execution_count": 0,
      "outputs": []
    },
    {
      "cell_type": "code",
      "metadata": {
        "id": "tOM1kZMQKXUh",
        "colab_type": "code",
        "colab": {}
      },
      "source": [
        "def cross_validation_XG_classifier(model):\n",
        "  accuracy = []\n",
        "  for train_index, test_index in kf.split(well_B):\n",
        "    # print(\"TRAIN:\", train_index, \"TEST:\", test_index)\n",
        "    #train part\n",
        "    X_train = np.array(well_B.drop('Score', axis = 1))[train_index]\n",
        "    y_train = np.array(well_B.Score)[train_index]\n",
        "    #test part\n",
        "    X_test = np.array(well_B.drop('Score', axis = 1))[test_index]\n",
        "    y_test = np.array(well_B.Score)[test_index]\n",
        "\n",
        "    # Define the scaler \n",
        "    # scaler = StandardScaler().fit(X_train)\n",
        "\n",
        "    # X_train = scaler.transform(X_train)\n",
        "    # X_test = scaler.transform(X_test)\n",
        "\n",
        "    # rgr_time = RandomForestClassifier(n_estimators = 400, random_state = 0, max_depth=20)\n",
        "    model.fit(X_train, y_train)\n",
        "\n",
        "    y_pred = model.predict(X_test)\n",
        "    \n",
        "    y_pred = my_ceil(np.array(y_pred))\n",
        "\n",
        "    accuracy.append(accuracy_score(y_pred, y_test))\n",
        "    # print(\"The score of the \" + str(cpt) + \" is \" + str(accuracy_score(y_pred, y_test)))\n",
        "    # cpt = cpt+1\n",
        "\n",
        "  return np.average(accuracy)\n",
        "\n",
        "# Converts floats to integers for classification\n",
        "def my_ceil(predictions):\n",
        "  for i in range(len(predictions)):\n",
        "\n",
        "    if predictions[i]%1 <= +0.5:\n",
        "      predictions[i] = int(predictions[i])\n",
        "    else:\n",
        "      predictions[i] = int(predictions[i]) + 1\n",
        "  return predictions\n",
        "\n",
        "\n",
        "def cross_validation_Lregressor(formula):\n",
        "  accuracy = []\n",
        "  for train_index, test_index in kf.split(well_B):\n",
        "    # print(\"TRAIN:\", train_index, \"TEST:\", test_index)\n",
        "    #train part\n",
        "    train = well_B.iloc[train_index]\n",
        "    #test part\n",
        "    test = well_B.iloc[test_index]\n",
        "\n",
        "    # Define the scaler \n",
        "    # scaler = StandardScaler().fit(X_train)\n",
        "\n",
        "    # X_train = scaler.transform(X_train)\n",
        "    # X_test = scaler.transform(X_test)\n",
        "\n",
        "    model_lr = formula\n",
        "    result_lr = smf.ols(model_lr, data = train).fit()\n",
        "\n",
        "    y_pred = np.array(result_lr.predict(test))\n",
        "\n",
        "    y_pred = my_ceil(y_pred)\n",
        "    \n",
        "    accuracy.append(accuracy_score(y_pred, test.Score))\n",
        "    # print(\"The score of the \" + str(cpt) + \" is \" + str(accuracy_score(y_pred, y_test)))\n",
        "    # cpt = cpt+1\n",
        "\n",
        "  return np.average(accuracy)\n"
      ],
      "execution_count": 0,
      "outputs": []
    },
    {
      "cell_type": "markdown",
      "metadata": {
        "id": "1ZR2jjCQIgTH",
        "colab_type": "text"
      },
      "source": [
        "##Regression"
      ]
    },
    {
      "cell_type": "markdown",
      "metadata": {
        "id": "xy70wKMtI-P9",
        "colab_type": "text"
      },
      "source": [
        "###Linear regression"
      ]
    },
    {
      "cell_type": "code",
      "metadata": {
        "id": "ozyVpLjaMxMx",
        "colab_type": "code",
        "colab": {}
      },
      "source": [
        "import statsmodels.formula.api as smf\n",
        "import statsmodels.api as sm"
      ],
      "execution_count": 0,
      "outputs": []
    },
    {
      "cell_type": "markdown",
      "metadata": {
        "id": "m8cW2HJDJskN",
        "colab_type": "text"
      },
      "source": [
        "####First model"
      ]
    },
    {
      "cell_type": "code",
      "metadata": {
        "id": "k8_gzesDJEBP",
        "colab_type": "code",
        "outputId": "9b833aaa-43a1-4771-a6ce-fbe6b8165428",
        "colab": {
          "base_uri": "https://localhost:8080/",
          "height": 544
        }
      },
      "source": [
        "model_lr = 'Score ~ Temperature + Humidity + Humex + CO2 + Bright'\n",
        "result_lr = smf.ols(model_lr, data = well_B).fit()\n",
        "print(result_lr.summary())"
      ],
      "execution_count": 0,
      "outputs": [
        {
          "output_type": "stream",
          "text": [
            "                            OLS Regression Results                            \n",
            "==============================================================================\n",
            "Dep. Variable:                  Score   R-squared:                       0.380\n",
            "Model:                            OLS   Adj. R-squared:                  0.380\n",
            "Method:                 Least Squares   F-statistic:                     979.6\n",
            "Date:                Thu, 19 Dec 2019   Prob (F-statistic):               0.00\n",
            "Time:                        18:09:19   Log-Likelihood:                -8541.0\n",
            "No. Observations:                8000   AIC:                         1.709e+04\n",
            "Df Residuals:                    7994   BIC:                         1.714e+04\n",
            "Df Model:                           5                                         \n",
            "Covariance Type:            nonrobust                                         \n",
            "===============================================================================\n",
            "                  coef    std err          t      P>|t|      [0.025      0.975]\n",
            "-------------------------------------------------------------------------------\n",
            "Intercept     -18.7846      0.790    -23.779      0.000     -20.333     -17.236\n",
            "Temperature     2.0279      0.080     25.209      0.000       1.870       2.186\n",
            "Humidity        0.2986      0.010     30.564      0.000       0.279       0.318\n",
            "Humex          -1.5151      0.061    -24.712      0.000      -1.635      -1.395\n",
            "CO2            -0.0010   4.75e-05    -20.754      0.000      -0.001      -0.001\n",
            "Bright          0.0004      0.000      3.234      0.001       0.000       0.001\n",
            "==============================================================================\n",
            "Omnibus:                       10.461   Durbin-Watson:                   1.163\n",
            "Prob(Omnibus):                  0.005   Jarque-Bera (JB):               10.717\n",
            "Skew:                          -0.070   Prob(JB):                      0.00471\n",
            "Kurtosis:                       3.112   Cond. No.                     6.32e+04\n",
            "==============================================================================\n",
            "\n",
            "Warnings:\n",
            "[1] Standard Errors assume that the covariance matrix of the errors is correctly specified.\n",
            "[2] The condition number is large, 6.32e+04. This might indicate that there are\n",
            "strong multicollinearity or other numerical problems.\n"
          ],
          "name": "stdout"
        }
      ]
    },
    {
      "cell_type": "code",
      "metadata": {
        "id": "QTH-WXJXJ1qm",
        "colab_type": "code",
        "outputId": "aec1ac83-5e47-40ad-d3df-bee92aaf1407",
        "colab": {
          "base_uri": "https://localhost:8080/",
          "height": 34
        }
      },
      "source": [
        "cross_validation_Lregressor(model_lr)"
      ],
      "execution_count": 0,
      "outputs": [
        {
          "output_type": "execute_result",
          "data": {
            "text/plain": [
              "0.5186297859877849"
            ]
          },
          "metadata": {
            "tags": []
          },
          "execution_count": 185
        }
      ]
    },
    {
      "cell_type": "markdown",
      "metadata": {
        "id": "n0DGU7ZbTfiC",
        "colab_type": "text"
      },
      "source": [
        "####Second model"
      ]
    },
    {
      "cell_type": "code",
      "metadata": {
        "id": "w6uzpSW9TZH-",
        "colab_type": "code",
        "outputId": "9b05ef95-e67c-4f1b-a437-25f5927c6b64",
        "colab": {
          "base_uri": "https://localhost:8080/",
          "height": 663
        }
      },
      "source": [
        "model_lr_1 = 'Score ~ Temperature + Humidity + Humex + CO2 + Bright + lundi +\tmardi + mercredi + jeudi + vendredi + samedi + dimanche'\n",
        "result_lr_1 = smf.ols(model_lr_1, data = well_B).fit()\n",
        "print(result_lr_1.summary())"
      ],
      "execution_count": 0,
      "outputs": [
        {
          "output_type": "stream",
          "text": [
            "                            OLS Regression Results                            \n",
            "==============================================================================\n",
            "Dep. Variable:                  Score   R-squared:                       0.386\n",
            "Model:                            OLS   Adj. R-squared:                  0.385\n",
            "Method:                 Least Squares   F-statistic:                     456.1\n",
            "Date:                Thu, 19 Dec 2019   Prob (F-statistic):               0.00\n",
            "Time:                        18:09:27   Log-Likelihood:                -8503.0\n",
            "No. Observations:                8000   AIC:                         1.703e+04\n",
            "Df Residuals:                    7988   BIC:                         1.711e+04\n",
            "Df Model:                          11                                         \n",
            "Covariance Type:            nonrobust                                         \n",
            "===============================================================================\n",
            "                  coef    std err          t      P>|t|      [0.025      0.975]\n",
            "-------------------------------------------------------------------------------\n",
            "Intercept     -16.2137      0.691    -23.456      0.000     -17.569     -14.859\n",
            "Temperature     2.0151      0.080     25.098      0.000       1.858       2.172\n",
            "Humidity        0.2984      0.010     30.612      0.000       0.279       0.317\n",
            "Humex          -1.5116      0.061    -24.714      0.000      -1.631      -1.392\n",
            "CO2            -0.0010   5.11e-05    -20.223      0.000      -0.001      -0.001\n",
            "Bright          0.0003      0.000      2.857      0.004       0.000       0.001\n",
            "lundi          -2.3511      0.101    -23.205      0.000      -2.550      -2.152\n",
            "mardi          -2.3638      0.102    -23.267      0.000      -2.563      -2.165\n",
            "mercredi       -2.2852      0.101    -22.581      0.000      -2.484      -2.087\n",
            "jeudi          -2.2261      0.101    -22.046      0.000      -2.424      -2.028\n",
            "vendredi       -2.2103      0.101    -21.947      0.000      -2.408      -2.013\n",
            "samedi         -2.3632      0.100    -23.712      0.000      -2.559      -2.168\n",
            "dimanche       -2.4141      0.099    -24.280      0.000      -2.609      -2.219\n",
            "==============================================================================\n",
            "Omnibus:                       11.224   Durbin-Watson:                   1.174\n",
            "Prob(Omnibus):                  0.004   Jarque-Bera (JB):               11.583\n",
            "Skew:                          -0.071   Prob(JB):                      0.00305\n",
            "Kurtosis:                       3.121   Cond. No.                     1.25e+18\n",
            "==============================================================================\n",
            "\n",
            "Warnings:\n",
            "[1] Standard Errors assume that the covariance matrix of the errors is correctly specified.\n",
            "[2] The smallest eigenvalue is 1.99e-27. This might indicate that there are\n",
            "strong multicollinearity problems or that the design matrix is singular.\n"
          ],
          "name": "stdout"
        }
      ]
    },
    {
      "cell_type": "code",
      "metadata": {
        "id": "PHDD1vb6TyNX",
        "colab_type": "code",
        "outputId": "547bada6-9261-4193-c62d-0c90df85e8fe",
        "colab": {
          "base_uri": "https://localhost:8080/",
          "height": 34
        }
      },
      "source": [
        "cross_validation_Lregressor(model_lr_1)"
      ],
      "execution_count": 0,
      "outputs": [
        {
          "output_type": "execute_result",
          "data": {
            "text/plain": [
              "0.5176292543116874"
            ]
          },
          "metadata": {
            "tags": []
          },
          "execution_count": 187
        }
      ]
    },
    {
      "cell_type": "markdown",
      "metadata": {
        "id": "_6QllMAvUTPR",
        "colab_type": "text"
      },
      "source": [
        "####Third model"
      ]
    },
    {
      "cell_type": "code",
      "metadata": {
        "id": "1tqX_MSxUVln",
        "colab_type": "code",
        "outputId": "396bdfe9-7fdb-4f8c-f9fa-3221ac86742e",
        "colab": {
          "base_uri": "https://localhost:8080/",
          "height": 1000
        }
      },
      "source": [
        "allcolumns = '+'.join(well_B.columns[:len(well_B.columns)-1])\n",
        "allcolumns\n",
        "model_lr_2 = 'Score ~'+ allcolumns\n",
        "model_lr_2\n",
        "result_lr_2 = smf.ols(model_lr_2, data = well_B).fit()\n",
        "print(result_lr_2.summary())"
      ],
      "execution_count": 0,
      "outputs": [
        {
          "output_type": "stream",
          "text": [
            "                            OLS Regression Results                            \n",
            "==============================================================================\n",
            "Dep. Variable:                  Score   R-squared:                       0.393\n",
            "Model:                            OLS   Adj. R-squared:                  0.391\n",
            "Method:                 Least Squares   F-statistic:                     151.9\n",
            "Date:                Thu, 19 Dec 2019   Prob (F-statistic):               0.00\n",
            "Time:                        18:22:00   Log-Likelihood:                -8452.9\n",
            "No. Observations:                8000   AIC:                         1.698e+04\n",
            "Df Residuals:                    7965   BIC:                         1.722e+04\n",
            "Df Model:                          34                                         \n",
            "Covariance Type:            nonrobust                                         \n",
            "===============================================================================\n",
            "                  coef    std err          t      P>|t|      [0.025      0.975]\n",
            "-------------------------------------------------------------------------------\n",
            "Intercept     -15.5752      0.665    -23.410      0.000     -16.879     -14.271\n",
            "Temperature     2.0095      0.080     25.025      0.000       1.852       2.167\n",
            "Humidity        0.2977      0.010     30.458      0.000       0.279       0.317\n",
            "Humex          -1.5074      0.061    -24.603      0.000      -1.628      -1.387\n",
            "CO2            -0.0011   5.94e-05    -18.148      0.000      -0.001      -0.001\n",
            "Bright          0.0004      0.000      2.615      0.009    9.34e-05       0.001\n",
            "lundi          -2.2590      0.098    -23.131      0.000      -2.450      -2.068\n",
            "mardi          -2.2672      0.098    -23.161      0.000      -2.459      -2.075\n",
            "mercredi       -2.1918      0.098    -22.478      0.000      -2.383      -2.001\n",
            "jeudi          -2.1334      0.097    -21.931      0.000      -2.324      -1.943\n",
            "vendredi       -2.1180      0.097    -21.827      0.000      -2.308      -1.928\n",
            "samedi         -2.2777      0.096    -23.638      0.000      -2.467      -2.089\n",
            "dimanche       -2.3282      0.096    -24.211      0.000      -2.517      -2.140\n",
            "midnight       -0.6755      0.047    -14.256      0.000      -0.768      -0.583\n",
            "AM1            -0.6304      0.048    -13.258      0.000      -0.724      -0.537\n",
            "AM2            -0.6536      0.048    -13.746      0.000      -0.747      -0.560\n",
            "AM3            -0.7399      0.048    -15.499      0.000      -0.834      -0.646\n",
            "AM4            -0.7341      0.048    -15.395      0.000      -0.828      -0.641\n",
            "AM5            -0.7869      0.048    -16.510      0.000      -0.880      -0.693\n",
            "AM6            -0.6627      0.048    -13.885      0.000      -0.756      -0.569\n",
            "AM7            -0.7093      0.048    -14.903      0.000      -0.803      -0.616\n",
            "AM8            -0.5489      0.047    -11.606      0.000      -0.642      -0.456\n",
            "AM9            -0.5267      0.048    -11.027      0.000      -0.620      -0.433\n",
            "AM10           -0.5867      0.049    -11.989      0.000      -0.683      -0.491\n",
            "AM11           -0.6063      0.050    -12.225      0.000      -0.704      -0.509\n",
            "midday         -0.7021      0.048    -14.506      0.000      -0.797      -0.607\n",
            "PM1            -0.7001      0.048    -14.522      0.000      -0.795      -0.606\n",
            "PM2            -0.6717      0.048    -14.028      0.000      -0.766      -0.578\n",
            "PM3            -0.7147      0.048    -14.998      0.000      -0.808      -0.621\n",
            "PM4            -0.7004      0.047    -14.880      0.000      -0.793      -0.608\n",
            "PM5            -0.7102      0.047    -15.104      0.000      -0.802      -0.618\n",
            "PM6            -0.5424      0.047    -11.616      0.000      -0.634      -0.451\n",
            "PM7            -0.4362      0.046     -9.392      0.000      -0.527      -0.345\n",
            "PM8            -0.5937      0.047    -12.663      0.000      -0.686      -0.502\n",
            "PM9            -0.6194      0.047    -13.197      0.000      -0.711      -0.527\n",
            "PM10           -0.6652      0.047    -14.116      0.000      -0.758      -0.573\n",
            "PM11           -0.6582      0.047    -13.884      0.000      -0.751      -0.565\n",
            "==============================================================================\n",
            "Omnibus:                       13.195   Durbin-Watson:                   1.185\n",
            "Prob(Omnibus):                  0.001   Jarque-Bera (JB):               13.656\n",
            "Skew:                          -0.078   Prob(JB):                      0.00108\n",
            "Kurtosis:                       3.129   Cond. No.                     2.99e+18\n",
            "==============================================================================\n",
            "\n",
            "Warnings:\n",
            "[1] Standard Errors assume that the covariance matrix of the errors is correctly specified.\n",
            "[2] The smallest eigenvalue is 3.49e-28. This might indicate that there are\n",
            "strong multicollinearity problems or that the design matrix is singular.\n"
          ],
          "name": "stdout"
        }
      ]
    },
    {
      "cell_type": "code",
      "metadata": {
        "id": "ccsCkqYKZT_v",
        "colab_type": "code",
        "outputId": "21c8514f-f6cb-4495-cd1f-65d11290b4dd",
        "colab": {
          "base_uri": "https://localhost:8080/",
          "height": 34
        }
      },
      "source": [
        "cross_validation_Lregressor(model_lr_2)"
      ],
      "execution_count": 0,
      "outputs": [
        {
          "output_type": "execute_result",
          "data": {
            "text/plain": [
              "0.5175061304727452"
            ]
          },
          "metadata": {
            "tags": []
          },
          "execution_count": 212
        }
      ]
    },
    {
      "cell_type": "markdown",
      "metadata": {
        "id": "5SHvzua7Zgmd",
        "colab_type": "text"
      },
      "source": [
        "###XGboost"
      ]
    },
    {
      "cell_type": "code",
      "metadata": {
        "id": "jYKSAqT9Z0c2",
        "colab_type": "code",
        "colab": {}
      },
      "source": [
        "import xgboost"
      ],
      "execution_count": 0,
      "outputs": []
    },
    {
      "cell_type": "code",
      "metadata": {
        "id": "6gpnnm_pZ5EB",
        "colab_type": "code",
        "colab": {}
      },
      "source": [
        "model_xg = xgboost.XGBRegressor(objective ='reg:squarederror', colsample_bytree = 0.3, learning_rate = 0.05,\n",
        "                          alpha = 10,base_score= 0.4, booster='gbtree', n_estimators = 150)"
      ],
      "execution_count": 0,
      "outputs": []
    },
    {
      "cell_type": "code",
      "metadata": {
        "id": "ZU3fHneYZkLu",
        "colab_type": "code",
        "outputId": "90984c63-7ced-43bb-d36c-a0c80cf375fa",
        "colab": {
          "base_uri": "https://localhost:8080/",
          "height": 34
        }
      },
      "source": [
        "cross_validation_XG_classifier(model_xg)"
      ],
      "execution_count": 0,
      "outputs": [
        {
          "output_type": "execute_result",
          "data": {
            "text/plain": [
              "0.7156269433045913"
            ]
          },
          "metadata": {
            "tags": []
          },
          "execution_count": 218
        }
      ]
    },
    {
      "cell_type": "markdown",
      "metadata": {
        "id": "wHnEKJvcIlyE",
        "colab_type": "text"
      },
      "source": [
        "##Classification"
      ]
    },
    {
      "cell_type": "code",
      "metadata": {
        "id": "kBzYfaB4PZPg",
        "colab_type": "code",
        "colab": {}
      },
      "source": [
        "import pandas as pd\n",
        "import numpy as np\n",
        "from sklearn.model_selection import train_test_split\n",
        "from google.colab import files "
      ],
      "execution_count": 0,
      "outputs": []
    },
    {
      "cell_type": "code",
      "metadata": {
        "id": "RSCoBaDTtmRt",
        "colab_type": "code",
        "colab": {}
      },
      "source": [
        "def my_ceil(predictions):\n",
        "  for i in range(len(predictions)):\n",
        "    if predictions[i]%1<=0.5:\n",
        "      predictions[i] = int(predictions[i])\n",
        "    else:\n",
        "      predictions[i] = int(predictions[i]) + 1\n",
        "  return predictions\n",
        "\n",
        "#Export function \n",
        "def export( data_test, predictions):\n",
        "  result_ = pd.DataFrame({'ID': data_test.ID, 'Score': my_ceil(predictions)}) \n",
        "  result_.to_csv('results_.csv', index = False) \n",
        "  \n",
        "  files.download('results_.csv')\n"
      ],
      "execution_count": 0,
      "outputs": []
    },
    {
      "cell_type": "markdown",
      "metadata": {
        "id": "az5e1GHTXory",
        "colab_type": "text"
      },
      "source": [
        "# Upload preprocessed dataset train and test  "
      ]
    },
    {
      "cell_type": "code",
      "metadata": {
        "id": "ZKkL-y3YPrR0",
        "colab_type": "code",
        "colab": {}
      },
      "source": [
        "test = pd.read_csv('https://raw.githubusercontent.com/nisrineha/Challenge_data_well_being_at_work/master/datasets/data_test_processed.csv')\n",
        "train = pd.read_csv('https://raw.githubusercontent.com/nisrineha/Challenge_data_well_being_at_work/master/datasets/data_train_processed.csv')\n",
        "test_with_ID = pd.read_csv('https://raw.githubusercontent.com/nisrineha/Challenge_data_well_being_at_work/master/datasets/test_input.csv')\n",
        "test_with_date= pd.read_csv('https://raw.githubusercontent.com/nisrineha/Challenge_data_well_being_at_work/master/datasets/train_input.csv')"
      ],
      "execution_count": 0,
      "outputs": []
    },
    {
      "cell_type": "code",
      "metadata": {
        "id": "xOeYPyUVU-zW",
        "colab_type": "code",
        "outputId": "c3676b59-d7ca-48d5-c89f-ae513f4efb61",
        "colab": {
          "base_uri": "https://localhost:8080/",
          "height": 189
        }
      },
      "source": [
        "test_with_date.head()\n"
      ],
      "execution_count": 0,
      "outputs": [
        {
          "output_type": "execute_result",
          "data": {
            "text/html": [
              "<div>\n",
              "<style scoped>\n",
              "    .dataframe tbody tr th:only-of-type {\n",
              "        vertical-align: middle;\n",
              "    }\n",
              "\n",
              "    .dataframe tbody tr th {\n",
              "        vertical-align: top;\n",
              "    }\n",
              "\n",
              "    .dataframe thead th {\n",
              "        text-align: right;\n",
              "    }\n",
              "</style>\n",
              "<table border=\"1\" class=\"dataframe\">\n",
              "  <thead>\n",
              "    <tr style=\"text-align: right;\">\n",
              "      <th></th>\n",
              "      <th>ID</th>\n",
              "      <th>Date</th>\n",
              "      <th>Temperature</th>\n",
              "      <th>Humidity</th>\n",
              "      <th>Humex</th>\n",
              "      <th>CO2</th>\n",
              "      <th>Bright</th>\n",
              "    </tr>\n",
              "  </thead>\n",
              "  <tbody>\n",
              "    <tr>\n",
              "      <th>0</th>\n",
              "      <td>0</td>\n",
              "      <td>2017-08-31 23:30:00</td>\n",
              "      <td>22.7</td>\n",
              "      <td>56.0</td>\n",
              "      <td>25.7</td>\n",
              "      <td>534.0</td>\n",
              "      <td>1.0</td>\n",
              "    </tr>\n",
              "    <tr>\n",
              "      <th>1</th>\n",
              "      <td>1</td>\n",
              "      <td>2017-09-01 00:30:00</td>\n",
              "      <td>22.8</td>\n",
              "      <td>55.0</td>\n",
              "      <td>25.7</td>\n",
              "      <td>506.0</td>\n",
              "      <td>1.0</td>\n",
              "    </tr>\n",
              "    <tr>\n",
              "      <th>2</th>\n",
              "      <td>2</td>\n",
              "      <td>2017-09-01 01:30:00</td>\n",
              "      <td>22.9</td>\n",
              "      <td>55.0</td>\n",
              "      <td>25.9</td>\n",
              "      <td>577.0</td>\n",
              "      <td>1.0</td>\n",
              "    </tr>\n",
              "    <tr>\n",
              "      <th>3</th>\n",
              "      <td>3</td>\n",
              "      <td>2017-09-01 02:30:00</td>\n",
              "      <td>23.0</td>\n",
              "      <td>55.0</td>\n",
              "      <td>26.1</td>\n",
              "      <td>630.0</td>\n",
              "      <td>1.0</td>\n",
              "    </tr>\n",
              "    <tr>\n",
              "      <th>4</th>\n",
              "      <td>4</td>\n",
              "      <td>2017-09-01 03:30:00</td>\n",
              "      <td>23.0</td>\n",
              "      <td>55.0</td>\n",
              "      <td>26.1</td>\n",
              "      <td>643.0</td>\n",
              "      <td>1.0</td>\n",
              "    </tr>\n",
              "  </tbody>\n",
              "</table>\n",
              "</div>"
            ],
            "text/plain": [
              "   ID                 Date  Temperature  Humidity  Humex    CO2  Bright\n",
              "0   0  2017-08-31 23:30:00         22.7      56.0   25.7  534.0     1.0\n",
              "1   1  2017-09-01 00:30:00         22.8      55.0   25.7  506.0     1.0\n",
              "2   2  2017-09-01 01:30:00         22.9      55.0   25.9  577.0     1.0\n",
              "3   3  2017-09-01 02:30:00         23.0      55.0   26.1  630.0     1.0\n",
              "4   4  2017-09-01 03:30:00         23.0      55.0   26.1  643.0     1.0"
            ]
          },
          "metadata": {
            "tags": []
          },
          "execution_count": 16
        }
      ]
    },
    {
      "cell_type": "markdown",
      "metadata": {
        "id": "SFlYVL4oASD2",
        "colab_type": "text"
      },
      "source": [
        "Creation of features and the target variable Score"
      ]
    },
    {
      "cell_type": "code",
      "metadata": {
        "id": "I2J_4wJiWh0B",
        "colab_type": "code",
        "colab": {}
      },
      "source": [
        "y= train['Score']\n",
        "train1= train\n",
        "train1= train1.drop('Score', axis= 1)\n",
        "X= train1\n",
        "train1.head()"
      ],
      "execution_count": 0,
      "outputs": []
    },
    {
      "cell_type": "markdown",
      "metadata": {
        "id": "NH8zJZObAaQd",
        "colab_type": "text"
      },
      "source": [
        "Spliting of the data "
      ]
    },
    {
      "cell_type": "code",
      "metadata": {
        "id": "yoQZmsKnXafK",
        "colab_type": "code",
        "colab": {}
      },
      "source": [
        "X_train, X_test, y_train, y_test= train_test_split(X, y , test_size= 0.2, random_state= 42)"
      ],
      "execution_count": 0,
      "outputs": []
    },
    {
      "cell_type": "markdown",
      "metadata": {
        "id": "TxVfKGxFAo_4",
        "colab_type": "text"
      },
      "source": [
        "##Pipeline method\n",
        "\n",
        "Implement of pipeline method using different transformer: numeric and categorial "
      ]
    },
    {
      "cell_type": "code",
      "metadata": {
        "id": "mfqfMj1LX04Z",
        "colab_type": "code",
        "colab": {}
      },
      "source": [
        "from sklearn.pipeline import Pipeline\n",
        "from sklearn.impute import SimpleImputer\n",
        "from sklearn.preprocessing import StandardScaler, OneHotEncoder\n",
        "\n",
        "#SimpleImputer fill any missing values \n",
        "#Scaler numeric transformer\n",
        "\n",
        "numeric_transformer = Pipeline(steps=[\n",
        "    ('imputer', SimpleImputer(strategy='median')),\n",
        "    ('scaler', StandardScaler())])\n",
        "\n",
        "#One hot encoder to transform categorial values into integers.\n",
        "\n",
        "categorical_transformer = Pipeline(steps=[\n",
        "    ('imputer', SimpleImputer(strategy='constant', fill_value='missing')),\n",
        "    ('onehot', OneHotEncoder(handle_unknown='ignore'))])"
      ],
      "execution_count": 0,
      "outputs": []
    },
    {
      "cell_type": "markdown",
      "metadata": {
        "id": "9PX7wPPhA5AN",
        "colab_type": "text"
      },
      "source": [
        "Transform the categorical features and numeric on train dataset and test "
      ]
    },
    {
      "cell_type": "code",
      "metadata": {
        "id": "vVyO15mFaVj8",
        "colab_type": "code",
        "colab": {}
      },
      "source": [
        "#Select les columns numeric \n",
        "#Select les columns categoric \n",
        "\n",
        "\n",
        "integer_features = list(X.columns[X.dtypes == 'int64'])\n",
        "continuous_features = list(X.columns[X.dtypes == 'float64'])\n",
        "categorical_features = list(X.columns[X.dtypes == 'object'])\n",
        "numeric_features = integer_features + continuous_features \n",
        "\n",
        "\n",
        "from sklearn.compose import ColumnTransformer\n",
        "preprocessor = ColumnTransformer(\n",
        "    transformers=[\n",
        "        ('num', numeric_transformer, numeric_features),\n",
        "        ('cat', categorical_transformer, categorical_features)])\n",
        "\n",
        "integer_features_test = list(test.columns[test.dtypes == 'int64'])\n",
        "continuous_features_test = list(test.columns[test.dtypes == 'float64'])\n",
        "categorical_features_test = list(test.columns[test.dtypes == 'object'])\n",
        "numeric_features = integer_features + continuous_features \n",
        "\n",
        "\n",
        "from sklearn.compose import ColumnTransformer\n",
        "preprocessor = ColumnTransformer(\n",
        "    transformers=[\n",
        "        ('num', numeric_transformer, numeric_features),\n",
        "        ('cat', categorical_transformer, categorical_features)])"
      ],
      "execution_count": 0,
      "outputs": []
    },
    {
      "cell_type": "markdown",
      "metadata": {
        "id": "RXp06ue8C5v9",
        "colab_type": "text"
      },
      "source": [
        "##Model selection\n",
        "In this section, we chose different classifier from sklearn, to get the best classifier for our dataset, we calculate the score thanks to the splitting of the dataset that we did before. "
      ]
    },
    {
      "cell_type": "code",
      "metadata": {
        "id": "fYbUZuK4dmgv",
        "colab_type": "code",
        "outputId": "f03eb6bb-2396-4f87-d256-9bd1233c8450",
        "colab": {
          "base_uri": "https://localhost:8080/",
          "height": 916
        }
      },
      "source": [
        "from sklearn.metrics import accuracy_score, log_loss\n",
        "from sklearn.neighbors import KNeighborsClassifier\n",
        "from sklearn.svm import SVC, LinearSVC, NuSVC\n",
        "from sklearn.tree import DecisionTreeClassifier\n",
        "from sklearn.ensemble import RandomForestClassifier, AdaBoostClassifier, GradientBoostingClassifier\n",
        "from sklearn.discriminant_analysis import LinearDiscriminantAnalysis\n",
        "from sklearn.discriminant_analysis import QuadraticDiscriminantAnalysis\n",
        "classifiers = [\n",
        "    KNeighborsClassifier(3),\n",
        "    SVC(kernel=\"rbf\", C=0.025, probability=True),\n",
        "    DecisionTreeClassifier(),\n",
        "    RandomForestClassifier(),\n",
        "    AdaBoostClassifier(),\n",
        "    GradientBoostingClassifier(), \n",
        "    LinearDiscriminantAnalysis(), \n",
        "    QuadraticDiscriminantAnalysis()\n",
        "    ]\n",
        "pipes= []\n",
        "for classifier in classifiers:\n",
        "    pipe = Pipeline(steps=[('preprocessor', preprocessor),\n",
        "                      ('classifier', classifier)])\n",
        "    pipe.fit(X_train, y_train)  \n",
        "    pipes.append(pipe) \n",
        "    print(classifier)\n",
        "    print(\"model score: %.3f\" % pipe.score(X_test, y_test))\n"
      ],
      "execution_count": 0,
      "outputs": [
        {
          "output_type": "stream",
          "text": [
            "KNeighborsClassifier(algorithm='auto', leaf_size=30, metric='minkowski',\n",
            "                     metric_params=None, n_jobs=None, n_neighbors=3, p=2,\n",
            "                     weights='uniform')\n",
            "model score: 0.587\n",
            "SVC(C=0.025, cache_size=200, class_weight=None, coef0=0.0,\n",
            "    decision_function_shape='ovr', degree=3, gamma='auto_deprecated',\n",
            "    kernel='rbf', max_iter=-1, probability=True, random_state=None,\n",
            "    shrinking=True, tol=0.001, verbose=False)\n",
            "model score: 0.439\n",
            "DecisionTreeClassifier(class_weight=None, criterion='gini', max_depth=None,\n",
            "                       max_features=None, max_leaf_nodes=None,\n",
            "                       min_impurity_decrease=0.0, min_impurity_split=None,\n",
            "                       min_samples_leaf=1, min_samples_split=2,\n",
            "                       min_weight_fraction_leaf=0.0, presort=False,\n",
            "                       random_state=None, splitter='best')\n",
            "model score: 0.601\n",
            "RandomForestClassifier(bootstrap=True, class_weight=None, criterion='gini',\n",
            "                       max_depth=None, max_features='auto', max_leaf_nodes=None,\n",
            "                       min_impurity_decrease=0.0, min_impurity_split=None,\n",
            "                       min_samples_leaf=1, min_samples_split=2,\n",
            "                       min_weight_fraction_leaf=0.0, n_estimators=10,\n",
            "                       n_jobs=None, oob_score=False, random_state=None,\n",
            "                       verbose=0, warm_start=False)\n",
            "model score: 0.677\n"
          ],
          "name": "stdout"
        },
        {
          "output_type": "stream",
          "text": [
            "/usr/local/lib/python3.6/dist-packages/sklearn/ensemble/forest.py:245: FutureWarning: The default value of n_estimators will change from 10 in version 0.20 to 100 in 0.22.\n",
            "  \"10 in version 0.20 to 100 in 0.22.\", FutureWarning)\n"
          ],
          "name": "stderr"
        },
        {
          "output_type": "stream",
          "text": [
            "AdaBoostClassifier(algorithm='SAMME.R', base_estimator=None, learning_rate=1.0,\n",
            "                   n_estimators=50, random_state=None)\n",
            "model score: 0.565\n",
            "GradientBoostingClassifier(criterion='friedman_mse', init=None,\n",
            "                           learning_rate=0.1, loss='deviance', max_depth=3,\n",
            "                           max_features=None, max_leaf_nodes=None,\n",
            "                           min_impurity_decrease=0.0, min_impurity_split=None,\n",
            "                           min_samples_leaf=1, min_samples_split=2,\n",
            "                           min_weight_fraction_leaf=0.0, n_estimators=100,\n",
            "                           n_iter_no_change=None, presort='auto',\n",
            "                           random_state=None, subsample=1.0, tol=0.0001,\n",
            "                           validation_fraction=0.1, verbose=0,\n",
            "                           warm_start=False)\n",
            "model score: 0.750\n",
            "LinearDiscriminantAnalysis(n_components=None, priors=None, shrinkage=None,\n",
            "                           solver='svd', store_covariance=False, tol=0.0001)\n",
            "model score: 0.562\n",
            "QuadraticDiscriminantAnalysis(priors=None, reg_param=0.0,\n",
            "                              store_covariance=False, tol=0.0001)\n",
            "model score: 0.138\n"
          ],
          "name": "stdout"
        },
        {
          "output_type": "stream",
          "text": [
            "/usr/local/lib/python3.6/dist-packages/sklearn/discriminant_analysis.py:388: UserWarning: Variables are collinear.\n",
            "  warnings.warn(\"Variables are collinear.\")\n",
            "/usr/local/lib/python3.6/dist-packages/sklearn/discriminant_analysis.py:693: UserWarning: Variables are collinear\n",
            "  warnings.warn(\"Variables are collinear\")\n"
          ],
          "name": "stderr"
        }
      ]
    },
    {
      "cell_type": "markdown",
      "metadata": {
        "id": "Ond68ECdKMQF",
        "colab_type": "text"
      },
      "source": [
        "From the results above, we observe that the best classifiers are **GradientBoostingClassifier** and  **RandomForestClassifier**"
      ]
    },
    {
      "cell_type": "markdown",
      "metadata": {
        "id": "3R1KkKxwKd4N",
        "colab_type": "text"
      },
      "source": [
        "we chose GradientBoostingClassifier for submission, we had our best score which is **0,6990**\n",
        "\n",
        "\n"
      ]
    },
    {
      "cell_type": "code",
      "metadata": {
        "id": "WvQQvpO1tHms",
        "colab_type": "code",
        "colab": {}
      },
      "source": [
        "x = test\n",
        "y_pred= pipes[-3].predict(x)\n",
        "export(test_with_ID, y_pred)"
      ],
      "execution_count": 0,
      "outputs": []
    },
    {
      "cell_type": "markdown",
      "metadata": {
        "id": "ToDffyOoKrC7",
        "colab_type": "text"
      },
      "source": [
        "## Using pipeline in GridSearch "
      ]
    },
    {
      "cell_type": "code",
      "metadata": {
        "id": "gq58YmiVdtff",
        "colab_type": "code",
        "outputId": "24ba3f72-50d0-4a2d-cc28-79ac6415267a",
        "colab": {
          "base_uri": "https://localhost:8080/",
          "height": 88
        }
      },
      "source": [
        "param_grid = { \n",
        "    'classifier__n_estimators': [ 200, 300,  400, 500],\n",
        "    'classifier__max_features': ['auto', 'sqrt', 'log2'],\n",
        "    'classifier__max_depth' : [10, 20, 25, 30],\n",
        "    'classifier__criterion' :['gini', 'entropy']}\n",
        "from sklearn.model_selection import GridSearchCV\n",
        "CV = GridSearchCV(rf, param_grid, n_jobs= 1)\n",
        "                  \n",
        "CV.fit(X_train, y_train)  \n",
        "print(CV.best_params_)    \n",
        "print(CV.best_score_)"
      ],
      "execution_count": 0,
      "outputs": [
        {
          "output_type": "stream",
          "text": [
            "/usr/local/lib/python3.6/dist-packages/sklearn/model_selection/_split.py:1978: FutureWarning: The default value of cv will change from 3 to 5 in version 0.22. Specify it explicitly to silence this warning.\n",
            "  warnings.warn(CV_WARNING, FutureWarning)\n"
          ],
          "name": "stderr"
        },
        {
          "output_type": "stream",
          "text": [
            "{'classifier__criterion': 'entropy', 'classifier__max_depth': 10, 'classifier__max_features': 'auto', 'classifier__n_estimators': 400}\n",
            "0.71359375\n"
          ],
          "name": "stdout"
        }
      ]
    },
    {
      "cell_type": "markdown",
      "metadata": {
        "id": "eZwnrKZrLQnb",
        "colab_type": "text"
      },
      "source": [
        "we had from our grid search our best max depth and number of estimators for our randomforset model. "
      ]
    },
    {
      "cell_type": "code",
      "metadata": {
        "id": "pCnjuP6Laltv",
        "colab_type": "code",
        "colab": {}
      },
      "source": [
        "#Fitting the classifier \n",
        "from sklearn.ensemble import RandomForestClassifier\n",
        "rf = Pipeline(steps=[('preprocessor', preprocessor),\n",
        "                      ('classifier', RandomForestClassifier(n_estimators= 400, max_depth=20))])"
      ],
      "execution_count": 0,
      "outputs": []
    },
    {
      "cell_type": "code",
      "metadata": {
        "id": "7yAV5FXeazI9",
        "colab_type": "code",
        "outputId": "a848592e-4619-46bd-b26d-f01306e10929",
        "colab": {
          "base_uri": "https://localhost:8080/",
          "height": 69
        }
      },
      "source": [
        "rf.fit(X_train, y_train )\n",
        "\n",
        "pipe = Pipeline(steps=[('preprocessor', preprocessor),\n",
        "                  ('classifier',RandomForestClassifier(n_estimators= 400, max_depth=20) )])\n",
        "pipe.fit(X_train, y_train)  \n",
        "print(classifier)\n",
        "print(\"model score: %.3f\" % pipe.score(X_test, y_test))\n",
        "x = test\n",
        "y_pred= pipe.predict(x)\n",
        "export(test_with_ID, y_pred)"
      ],
      "execution_count": 0,
      "outputs": [
        {
          "output_type": "stream",
          "text": [
            "QuadraticDiscriminantAnalysis(priors=None, reg_param=0.0,\n",
            "                              store_covariance=False, tol=0.0001)\n",
            "model score: 0.734\n"
          ],
          "name": "stdout"
        }
      ]
    },
    {
      "cell_type": "markdown",
      "metadata": {
        "id": "DXusCw5aMEm2",
        "colab_type": "text"
      },
      "source": [
        "We submitted our results, but we had a score less than the one when we implemented **GradientBoostingClassifier**"
      ]
    },
    {
      "cell_type": "markdown",
      "metadata": {
        "id": "GLTWq0X9XN3s",
        "colab_type": "text"
      },
      "source": [
        "###Random forest model"
      ]
    },
    {
      "cell_type": "code",
      "metadata": {
        "id": "IJmjMJLabJv5",
        "colab_type": "code",
        "colab": {}
      },
      "source": [
        "rf_time = RandomForestClassifier(n_estimators = 400, random_state = 0, max_depth=20)"
      ],
      "execution_count": 0,
      "outputs": []
    },
    {
      "cell_type": "code",
      "metadata": {
        "id": "lTeTMGIwWibm",
        "colab_type": "code",
        "outputId": "ba7b9832-7ecc-4e79-8ac0-c04e17bd23db",
        "colab": {
          "base_uri": "https://localhost:8080/",
          "height": 34
        }
      },
      "source": [
        "cross_validation_XG_classifier(rf_time)"
      ],
      "execution_count": 0,
      "outputs": [
        {
          "output_type": "execute_result",
          "data": {
            "text/plain": [
              "0.706623909314313"
            ]
          },
          "metadata": {
            "tags": []
          },
          "execution_count": 221
        }
      ]
    },
    {
      "cell_type": "markdown",
      "metadata": {
        "id": "Du4oCb4obuEm",
        "colab_type": "text"
      },
      "source": [
        "###K nearest neighbor"
      ]
    },
    {
      "cell_type": "code",
      "metadata": {
        "id": "8aWYMy9tb1Vr",
        "colab_type": "code",
        "colab": {}
      },
      "source": [
        "neigh_time = KNeighborsClassifier(n_neighbors=5)"
      ],
      "execution_count": 0,
      "outputs": []
    },
    {
      "cell_type": "code",
      "metadata": {
        "id": "l3jPBnlFXaIJ",
        "colab_type": "code",
        "outputId": "721764c0-0e7c-458c-afca-29502a7654aa",
        "colab": {
          "base_uri": "https://localhost:8080/",
          "height": 34
        }
      },
      "source": [
        "cross_validation_XG_classifier(neigh_time)"
      ],
      "execution_count": 0,
      "outputs": [
        {
          "output_type": "execute_result",
          "data": {
            "text/plain": [
              "0.48610790989129854"
            ]
          },
          "metadata": {
            "tags": []
          },
          "execution_count": 223
        }
      ]
    },
    {
      "cell_type": "markdown",
      "metadata": {
        "id": "R2iS6DDaey8F",
        "colab_type": "text"
      },
      "source": [
        "###Gradient Boosting Classification"
      ]
    },
    {
      "cell_type": "code",
      "metadata": {
        "id": "DDNSS1QzfLST",
        "colab_type": "code",
        "colab": {}
      },
      "source": [
        "from sklearn.ensemble import GradientBoostingClassifier"
      ],
      "execution_count": 0,
      "outputs": []
    },
    {
      "cell_type": "code",
      "metadata": {
        "id": "L81H_Nleb9fc",
        "colab_type": "code",
        "colab": {}
      },
      "source": [
        "gbC_time = GradientBoostingClassifier()"
      ],
      "execution_count": 0,
      "outputs": []
    },
    {
      "cell_type": "code",
      "metadata": {
        "id": "XbaGy1jOexcb",
        "colab_type": "code",
        "outputId": "3f939b13-df03-4eba-a586-620fcbfdac42",
        "colab": {
          "base_uri": "https://localhost:8080/",
          "height": 34
        }
      },
      "source": [
        "cross_validation_XG_classifier(gbC_time)"
      ],
      "execution_count": 0,
      "outputs": [
        {
          "output_type": "execute_result",
          "data": {
            "text/plain": [
              "0.6976108065300944"
            ]
          },
          "metadata": {
            "tags": []
          },
          "execution_count": 226
        }
      ]
    },
    {
      "cell_type": "markdown",
      "metadata": {
        "id": "HweC0xWuYM8t",
        "colab_type": "text"
      },
      "source": [
        "#Stacking"
      ]
    },
    {
      "cell_type": "code",
      "metadata": {
        "id": "_k8u0SHLlwLA",
        "colab_type": "code",
        "colab": {}
      },
      "source": [
        "from sklearn.ensemble import ExtraTreesClassifier"
      ],
      "execution_count": 0,
      "outputs": []
    },
    {
      "cell_type": "code",
      "metadata": {
        "colab_type": "code",
        "id": "kqXDIi3ZCMcU",
        "colab": {}
      },
      "source": [
        "models = [\n",
        "    GradientBoostingClassifier(learning_rate = 0.1),\n",
        "        \n",
        "    RandomForestClassifier(random_state=0, n_jobs=-1, \n",
        "                           n_estimators=200, max_depth=20),\n",
        "        \n",
        "    XGBClassifier(random_state=0, n_jobs=-1, learning_rate = 0.1,\n",
        "                  n_estimators=70, max_depth=4),\n",
        "    \n",
        "    ExtraTreesClassifier(n_jobs= 16,n_estimators= 350,max_features= 0.9,max_depth= 12,min_samples_leaf= 2)\n",
        "    \n",
        "    \n",
        "]"
      ],
      "execution_count": 0,
      "outputs": []
    },
    {
      "cell_type": "code",
      "metadata": {
        "id": "e80HDPUFfszm",
        "colab_type": "code",
        "outputId": "ffb5222c-89ec-4f87-9f30-f9b0cba6829d",
        "colab": {
          "base_uri": "https://localhost:8080/",
          "height": 731
        }
      },
      "source": [
        "S_train, S_test = stacking(models,                   \n",
        "                           X, y, test,   \n",
        "                           regression=False, \n",
        "     \n",
        "                           mode='oof_pred_bag', \n",
        "       \n",
        "                           needs_proba=False,\n",
        "         \n",
        "                           save_dir=None, \n",
        "            \n",
        "                           metric=accuracy_score, \n",
        "    \n",
        "                           n_folds=4, \n",
        "                 \n",
        "                           stratified=True,\n",
        "            \n",
        "                           shuffle=True,  \n",
        "            \n",
        "                           random_state=0,    \n",
        "         \n",
        "                           verbose=2)"
      ],
      "execution_count": 0,
      "outputs": [
        {
          "output_type": "stream",
          "text": [
            "task:         [classification]\n",
            "n_classes:    [5]\n",
            "metric:       [accuracy_score]\n",
            "mode:         [oof_pred_bag]\n",
            "n_models:     [4]\n",
            "\n",
            "model  0:     [GradientBoostingClassifier]\n",
            "    fold  0:  [0.72483221]\n",
            "    fold  1:  [0.73553719]\n",
            "    fold  2:  [0.73254009]\n",
            "    fold  3:  [0.73809524]\n",
            "    ----\n",
            "    MEAN:     [0.73275118] + [0.00497683]\n",
            "    FULL:     [0.73274748]\n",
            "\n",
            "model  1:     [RandomForestClassifier]\n",
            "    fold  0:  [0.70366546]\n",
            "    fold  1:  [0.70454545]\n",
            "    fold  2:  [0.70822556]\n",
            "    fold  3:  [0.71221532]\n",
            "    ----\n",
            "    MEAN:     [0.70716295] + [0.00338154]\n",
            "    FULL:     [0.70715947]\n",
            "\n",
            "model  2:     [XGBClassifier]\n",
            "    fold  0:  [0.73205989]\n",
            "    fold  1:  [0.73398760]\n",
            "    fold  2:  [0.73874806]\n",
            "    fold  3:  [0.74430642]\n",
            "    ----\n",
            "    MEAN:     [0.73727549] + [0.00473326]\n",
            "    FULL:     [0.73727061]\n",
            "\n",
            "model  3:     [ExtraTreesClassifier]\n",
            "    fold  0:  [0.71863707]\n",
            "    fold  1:  [0.72365702]\n",
            "    fold  2:  [0.72788412]\n",
            "    fold  3:  [0.73861284]\n",
            "    ----\n",
            "    MEAN:     [0.72719776] + [0.00735862]\n",
            "    FULL:     [0.72719049]\n",
            "\n"
          ],
          "name": "stdout"
        }
      ]
    },
    {
      "cell_type": "code",
      "metadata": {
        "id": "Fyz94W0KWeLT",
        "colab_type": "code",
        "colab": {}
      },
      "source": [
        "model =  XGBClassifier(random_state=0, n_jobs=-1, learning_rate = 0.1,\n",
        "                  n_estimators=70, max_depth=4)\n",
        "    \n",
        "model = model.fit(S_train, y)\n",
        "y_pred = model.predict(S_test)"
      ],
      "execution_count": 0,
      "outputs": []
    },
    {
      "cell_type": "code",
      "metadata": {
        "id": "zFcw4aUWWn-m",
        "colab_type": "code",
        "colab": {}
      },
      "source": [
        "results_stack2 = pd.DataFrame({'ID':test_ID, 'Score': y_pred}) \n",
        "results_stack2.to_csv('results_stack3.csv', index = False) \n",
        "from google.colab import files \n",
        "files.download('results_stack3.csv')"
      ],
      "execution_count": 0,
      "outputs": []
    },
    {
      "cell_type": "markdown",
      "metadata": {
        "id": "Pj0g1xyjaDMB",
        "colab_type": "text"
      },
      "source": [
        "##Basic deep learning model"
      ]
    },
    {
      "cell_type": "code",
      "metadata": {
        "colab_type": "code",
        "id": "MMDTdUyjbFDF",
        "outputId": "6bc87678-3b90-4b0e-da1a-e70a4bd90c1a",
        "colab": {
          "base_uri": "https://localhost:8080/",
          "height": 34
        }
      },
      "source": [
        "# Import `Sequential` from `keras.models`\n",
        "from keras.models import Sequential\n",
        "\n",
        "# Import `Dense` from `keras.layers`\n",
        "from keras.layers import Dense\n",
        "\n",
        "# Initialize the constructor\n",
        "model = Sequential()\n",
        "\n",
        "# Add an input layer \n",
        "model.add(Dense(12, activation='softmax', input_shape=(36,)))\n",
        "\n",
        "# Add one hidden layer \n",
        "model.add(Dense(12, activation='relu'))\n",
        "\n",
        "# # Add one hidden layer \n",
        "# model.add(Dense(12, activation='relu'))\n",
        "\n",
        "# Add an output layer \n",
        "model.add(Dense(output_dim = 5, activation = 'softmax'))"
      ],
      "execution_count": 0,
      "outputs": [
        {
          "output_type": "stream",
          "text": [
            "/usr/local/lib/python3.6/dist-packages/ipykernel_launcher.py:19: UserWarning: Update your `Dense` call to the Keras 2 API: `Dense(activation=\"relu\", units=5)`\n"
          ],
          "name": "stderr"
        }
      ]
    },
    {
      "cell_type": "code",
      "metadata": {
        "id": "58T2c1lytTFh",
        "colab_type": "code",
        "colab": {}
      },
      "source": [
        "def dummies_categ(y):\n",
        "  cat = []\n",
        "  for i in range(len(y)):\n",
        "    ind = np.argmax(y_pred[i]) + 1\n",
        "    cat.append(ind)\n",
        "  return cat"
      ],
      "execution_count": 0,
      "outputs": []
    },
    {
      "cell_type": "code",
      "metadata": {
        "id": "FR0C_7PnbGv8",
        "colab_type": "code",
        "outputId": "ba4c6685-4a7c-44e9-b49a-4f556c9e6224",
        "colab": {
          "base_uri": "https://localhost:8080/",
          "height": 510
        }
      },
      "source": [
        "accuracy = []\n",
        "for train_index, test_index in kf.split(well_B):\n",
        "  # print(\"TRAIN:\", train_index, \"TEST:\", test_index)\n",
        "  #train part\n",
        "  X_train = np.array(well_B.drop('Score', axis = 1))[train_index]\n",
        "  y_train = np.array(well_B.Score)[train_index]\n",
        "\n",
        "  y_train = pd.get_dummies(y_train)\n",
        "  #test part\n",
        "  X_test = np.array(well_B.drop('Score', axis = 1))[test_index]\n",
        "  y_test = np.array(well_B.Score)[test_index]\n",
        "\n",
        "  y_test = pd.get_dummies(y_test)\n",
        "\n",
        "  \n",
        "  # Define the scaler \n",
        "  scaler = StandardScaler().fit(X_train)\n",
        "\n",
        "  X_train = scaler.transform(X_train)\n",
        "  X_test = scaler.transform(X_test)\n",
        "\n",
        "  model.compile(loss='binary_crossentropy',\n",
        "                optimizer='adam',\n",
        "                metrics=['accuracy'])\n",
        "                    \n",
        "  model.fit(X_train, y_train,epochs=2, batch_size=1, verbose=1)\n",
        "\n",
        "  y_pred = model.predict(X_test)\n",
        "\n",
        "  y_pred = dummies_categ(y_pred)\n",
        "  y_test = np.array(well_B.Score)[test_index]\n",
        "  # print(y_pred)\n",
        "  accuracy.append(accuracy_score(y_pred, y_test))\n",
        "  # print(\"The score of the \" + str(cpt) + \" is \" + str(accuracy_score(y_pred, y_test)))\n",
        "  # cpt = cpt+1\n",
        "\n",
        "np.average(accuracy)"
      ],
      "execution_count": 0,
      "outputs": [
        {
          "output_type": "stream",
          "text": [
            "Epoch 1/2\n",
            "6857/6857 [==============================] - 12s 2ms/step - loss: 0.5317 - acc: 0.8609\n",
            "Epoch 2/2\n",
            "6857/6857 [==============================] - 11s 2ms/step - loss: 0.5344 - acc: 0.8626\n",
            "Epoch 1/2\n",
            "6857/6857 [==============================] - 12s 2ms/step - loss: 0.5495 - acc: 0.8596\n",
            "Epoch 2/2\n",
            "6857/6857 [==============================] - 10s 2ms/step - loss: 0.5380 - acc: 0.8617\n",
            "Epoch 1/2\n",
            "6857/6857 [==============================] - 12s 2ms/step - loss: 0.5503 - acc: 0.8602\n",
            "Epoch 2/2\n",
            "6857/6857 [==============================] - 11s 2ms/step - loss: 0.5311 - acc: 0.8629\n",
            "Epoch 1/2\n",
            "6857/6857 [==============================] - 12s 2ms/step - loss: 0.5359 - acc: 0.8615\n",
            "Epoch 2/2\n",
            "6857/6857 [==============================] - 11s 2ms/step - loss: 0.5310 - acc: 0.8646\n",
            "Epoch 1/2\n",
            "6857/6857 [==============================] - 13s 2ms/step - loss: 0.5457 - acc: 0.8645\n",
            "Epoch 2/2\n",
            "6857/6857 [==============================] - 11s 2ms/step - loss: 0.5314 - acc: 0.8665\n",
            "Epoch 1/2\n",
            "6857/6857 [==============================] - 13s 2ms/step - loss: 0.5260 - acc: 0.8682\n",
            "Epoch 2/2\n",
            "6857/6857 [==============================] - 11s 2ms/step - loss: 0.5188 - acc: 0.8701\n",
            "Epoch 1/2\n",
            "6858/6858 [==============================] - 13s 2ms/step - loss: 0.5262 - acc: 0.8665\n",
            "Epoch 2/2\n",
            "6858/6858 [==============================] - 11s 2ms/step - loss: 0.5191 - acc: 0.8684\n"
          ],
          "name": "stdout"
        },
        {
          "output_type": "execute_result",
          "data": {
            "text/plain": [
              "0.6390032025331335"
            ]
          },
          "metadata": {
            "tags": []
          },
          "execution_count": 109
        }
      ]
    }
  ]
}